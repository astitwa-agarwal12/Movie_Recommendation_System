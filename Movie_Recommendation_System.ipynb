{
  "nbformat": 4,
  "nbformat_minor": 0,
  "metadata": {
    "colab": {
      "provenance": [],
      "authorship_tag": "ABX9TyMFsg7zFp1GRexAN7BcV1iM",
      "include_colab_link": true
    },
    "kernelspec": {
      "name": "python3",
      "display_name": "Python 3"
    },
    "language_info": {
      "name": "python"
    }
  },
  "cells": [
    {
      "cell_type": "markdown",
      "metadata": {
        "id": "view-in-github",
        "colab_type": "text"
      },
      "source": [
        "<a href=\"https://colab.research.google.com/github/astitwa-agarwal12/Movie_Recommendation_System/blob/main/Movie_Recommendation_System.ipynb\" target=\"_parent\"><img src=\"https://colab.research.google.com/assets/colab-badge.svg\" alt=\"Open In Colab\"/></a>"
      ]
    },
    {
      "cell_type": "code",
      "execution_count": 1,
      "metadata": {
        "id": "oMDK5ghAFHd6"
      },
      "outputs": [],
      "source": [
        "import numpy as np\n",
        "import pandas as pd\n",
        "import difflib\n",
        "from sklearn.feature_extraction.text import TfidfVectorizer\n",
        "from sklearn.metrics.pairwise import cosine_similarity"
      ]
    },
    {
      "cell_type": "code",
      "source": [
        "movies_data = pd.read_csv('/content/movies.csv',error_bad_lines=False,engine=\"python\")"
      ],
      "metadata": {
        "colab": {
          "base_uri": "https://localhost:8080/"
        },
        "id": "gqaQ-nZYsKC-",
        "outputId": "5778138c-8b32-4695-81f5-05310de81d9d"
      },
      "execution_count": 5,
      "outputs": [
        {
          "output_type": "stream",
          "name": "stderr",
          "text": [
            "Skipping line 1729: unexpected end of data\n"
          ]
        }
      ]
    },
    {
      "cell_type": "code",
      "source": [
        "movies_data.head()"
      ],
      "metadata": {
        "colab": {
          "base_uri": "https://localhost:8080/",
          "height": 837
        },
        "id": "nDBCNEybsOQ1",
        "outputId": "413cc502-c855-4f04-c5ea-88d9ff892ca8"
      },
      "execution_count": 6,
      "outputs": [
        {
          "output_type": "execute_result",
          "data": {
            "text/plain": [
              "   index     budget                                    genres  \\\n",
              "0      0  237000000  Action Adventure Fantasy Science Fiction   \n",
              "1      1  300000000                  Adventure Fantasy Action   \n",
              "2      2  245000000                    Action Adventure Crime   \n",
              "3      3  250000000               Action Crime Drama Thriller   \n",
              "4      4  260000000          Action Adventure Science Fiction   \n",
              "\n",
              "                                       homepage      id  \\\n",
              "0                   http://www.avatarmovie.com/   19995   \n",
              "1  http://disney.go.com/disneypictures/pirates/     285   \n",
              "2   http://www.sonypictures.com/movies/spectre/  206647   \n",
              "3            http://www.thedarkknightrises.com/   49026   \n",
              "4          http://movies.disney.com/john-carter   49529   \n",
              "\n",
              "                                            keywords original_language  \\\n",
              "0  culture clash future space war space colony so...                en   \n",
              "1  ocean drug abuse exotic island east india trad...                en   \n",
              "2         spy based on novel secret agent sequel mi6                en   \n",
              "3  dc comics crime fighter terrorist secret ident...                en   \n",
              "4  based on novel mars medallion space travel pri...                en   \n",
              "\n",
              "                             original_title  \\\n",
              "0                                    Avatar   \n",
              "1  Pirates of the Caribbean: At World's End   \n",
              "2                                   Spectre   \n",
              "3                     The Dark Knight Rises   \n",
              "4                               John Carter   \n",
              "\n",
              "                                            overview  popularity  ... runtime  \\\n",
              "0  In the 22nd century, a paraplegic Marine is di...  150.437577  ...   162.0   \n",
              "1  Captain Barbossa, long believed to be dead, ha...  139.082615  ...   169.0   \n",
              "2  A cryptic message from Bond’s past sends him o...  107.376788  ...   148.0   \n",
              "3  Following the death of District Attorney Harve...  112.312950  ...   165.0   \n",
              "4  John Carter is a war-weary, former military ca...   43.926995  ...   132.0   \n",
              "\n",
              "                                    spoken_languages    status  \\\n",
              "0  [{\"iso_639_1\": \"en\", \"name\": \"English\"}, {\"iso...  Released   \n",
              "1           [{\"iso_639_1\": \"en\", \"name\": \"English\"}]  Released   \n",
              "2  [{\"iso_639_1\": \"fr\", \"name\": \"Fran\\u00e7ais\"},...  Released   \n",
              "3           [{\"iso_639_1\": \"en\", \"name\": \"English\"}]  Released   \n",
              "4           [{\"iso_639_1\": \"en\", \"name\": \"English\"}]  Released   \n",
              "\n",
              "                                          tagline  \\\n",
              "0                     Enter the World of Pandora.   \n",
              "1  At the end of the world, the adventure begins.   \n",
              "2                           A Plan No One Escapes   \n",
              "3                                 The Legend Ends   \n",
              "4            Lost in our world, found in another.   \n",
              "\n",
              "                                      title vote_average vote_count  \\\n",
              "0                                    Avatar          7.2      11800   \n",
              "1  Pirates of the Caribbean: At World's End          6.9       4500   \n",
              "2                                   Spectre          6.3       4466   \n",
              "3                     The Dark Knight Rises          7.6       9106   \n",
              "4                               John Carter          6.1       2124   \n",
              "\n",
              "                                                cast  \\\n",
              "0  Sam Worthington Zoe Saldana Sigourney Weaver S...   \n",
              "1  Johnny Depp Orlando Bloom Keira Knightley Stel...   \n",
              "2  Daniel Craig Christoph Waltz L\\u00e9a Seydoux ...   \n",
              "3  Christian Bale Michael Caine Gary Oldman Anne ...   \n",
              "4  Taylor Kitsch Lynn Collins Samantha Morton Wil...   \n",
              "\n",
              "                                                crew           director  \n",
              "0  [{'name': 'Stephen E. Rivkin', 'gender': 0, 'd...      James Cameron  \n",
              "1  [{'name': 'Dariusz Wolski', 'gender': 2, 'depa...     Gore Verbinski  \n",
              "2  [{'name': 'Thomas Newman', 'gender': 2, 'depar...         Sam Mendes  \n",
              "3  [{'name': 'Hans Zimmer', 'gender': 2, 'departm...  Christopher Nolan  \n",
              "4  [{'name': 'Andrew Stanton', 'gender': 2, 'depa...     Andrew Stanton  \n",
              "\n",
              "[5 rows x 24 columns]"
            ],
            "text/html": [
              "\n",
              "  <div id=\"df-cb6156e8-c120-46f5-9f1e-c3b4d342610a\">\n",
              "    <div class=\"colab-df-container\">\n",
              "      <div>\n",
              "<style scoped>\n",
              "    .dataframe tbody tr th:only-of-type {\n",
              "        vertical-align: middle;\n",
              "    }\n",
              "\n",
              "    .dataframe tbody tr th {\n",
              "        vertical-align: top;\n",
              "    }\n",
              "\n",
              "    .dataframe thead th {\n",
              "        text-align: right;\n",
              "    }\n",
              "</style>\n",
              "<table border=\"1\" class=\"dataframe\">\n",
              "  <thead>\n",
              "    <tr style=\"text-align: right;\">\n",
              "      <th></th>\n",
              "      <th>index</th>\n",
              "      <th>budget</th>\n",
              "      <th>genres</th>\n",
              "      <th>homepage</th>\n",
              "      <th>id</th>\n",
              "      <th>keywords</th>\n",
              "      <th>original_language</th>\n",
              "      <th>original_title</th>\n",
              "      <th>overview</th>\n",
              "      <th>popularity</th>\n",
              "      <th>...</th>\n",
              "      <th>runtime</th>\n",
              "      <th>spoken_languages</th>\n",
              "      <th>status</th>\n",
              "      <th>tagline</th>\n",
              "      <th>title</th>\n",
              "      <th>vote_average</th>\n",
              "      <th>vote_count</th>\n",
              "      <th>cast</th>\n",
              "      <th>crew</th>\n",
              "      <th>director</th>\n",
              "    </tr>\n",
              "  </thead>\n",
              "  <tbody>\n",
              "    <tr>\n",
              "      <th>0</th>\n",
              "      <td>0</td>\n",
              "      <td>237000000</td>\n",
              "      <td>Action Adventure Fantasy Science Fiction</td>\n",
              "      <td>http://www.avatarmovie.com/</td>\n",
              "      <td>19995</td>\n",
              "      <td>culture clash future space war space colony so...</td>\n",
              "      <td>en</td>\n",
              "      <td>Avatar</td>\n",
              "      <td>In the 22nd century, a paraplegic Marine is di...</td>\n",
              "      <td>150.437577</td>\n",
              "      <td>...</td>\n",
              "      <td>162.0</td>\n",
              "      <td>[{\"iso_639_1\": \"en\", \"name\": \"English\"}, {\"iso...</td>\n",
              "      <td>Released</td>\n",
              "      <td>Enter the World of Pandora.</td>\n",
              "      <td>Avatar</td>\n",
              "      <td>7.2</td>\n",
              "      <td>11800</td>\n",
              "      <td>Sam Worthington Zoe Saldana Sigourney Weaver S...</td>\n",
              "      <td>[{'name': 'Stephen E. Rivkin', 'gender': 0, 'd...</td>\n",
              "      <td>James Cameron</td>\n",
              "    </tr>\n",
              "    <tr>\n",
              "      <th>1</th>\n",
              "      <td>1</td>\n",
              "      <td>300000000</td>\n",
              "      <td>Adventure Fantasy Action</td>\n",
              "      <td>http://disney.go.com/disneypictures/pirates/</td>\n",
              "      <td>285</td>\n",
              "      <td>ocean drug abuse exotic island east india trad...</td>\n",
              "      <td>en</td>\n",
              "      <td>Pirates of the Caribbean: At World's End</td>\n",
              "      <td>Captain Barbossa, long believed to be dead, ha...</td>\n",
              "      <td>139.082615</td>\n",
              "      <td>...</td>\n",
              "      <td>169.0</td>\n",
              "      <td>[{\"iso_639_1\": \"en\", \"name\": \"English\"}]</td>\n",
              "      <td>Released</td>\n",
              "      <td>At the end of the world, the adventure begins.</td>\n",
              "      <td>Pirates of the Caribbean: At World's End</td>\n",
              "      <td>6.9</td>\n",
              "      <td>4500</td>\n",
              "      <td>Johnny Depp Orlando Bloom Keira Knightley Stel...</td>\n",
              "      <td>[{'name': 'Dariusz Wolski', 'gender': 2, 'depa...</td>\n",
              "      <td>Gore Verbinski</td>\n",
              "    </tr>\n",
              "    <tr>\n",
              "      <th>2</th>\n",
              "      <td>2</td>\n",
              "      <td>245000000</td>\n",
              "      <td>Action Adventure Crime</td>\n",
              "      <td>http://www.sonypictures.com/movies/spectre/</td>\n",
              "      <td>206647</td>\n",
              "      <td>spy based on novel secret agent sequel mi6</td>\n",
              "      <td>en</td>\n",
              "      <td>Spectre</td>\n",
              "      <td>A cryptic message from Bond’s past sends him o...</td>\n",
              "      <td>107.376788</td>\n",
              "      <td>...</td>\n",
              "      <td>148.0</td>\n",
              "      <td>[{\"iso_639_1\": \"fr\", \"name\": \"Fran\\u00e7ais\"},...</td>\n",
              "      <td>Released</td>\n",
              "      <td>A Plan No One Escapes</td>\n",
              "      <td>Spectre</td>\n",
              "      <td>6.3</td>\n",
              "      <td>4466</td>\n",
              "      <td>Daniel Craig Christoph Waltz L\\u00e9a Seydoux ...</td>\n",
              "      <td>[{'name': 'Thomas Newman', 'gender': 2, 'depar...</td>\n",
              "      <td>Sam Mendes</td>\n",
              "    </tr>\n",
              "    <tr>\n",
              "      <th>3</th>\n",
              "      <td>3</td>\n",
              "      <td>250000000</td>\n",
              "      <td>Action Crime Drama Thriller</td>\n",
              "      <td>http://www.thedarkknightrises.com/</td>\n",
              "      <td>49026</td>\n",
              "      <td>dc comics crime fighter terrorist secret ident...</td>\n",
              "      <td>en</td>\n",
              "      <td>The Dark Knight Rises</td>\n",
              "      <td>Following the death of District Attorney Harve...</td>\n",
              "      <td>112.312950</td>\n",
              "      <td>...</td>\n",
              "      <td>165.0</td>\n",
              "      <td>[{\"iso_639_1\": \"en\", \"name\": \"English\"}]</td>\n",
              "      <td>Released</td>\n",
              "      <td>The Legend Ends</td>\n",
              "      <td>The Dark Knight Rises</td>\n",
              "      <td>7.6</td>\n",
              "      <td>9106</td>\n",
              "      <td>Christian Bale Michael Caine Gary Oldman Anne ...</td>\n",
              "      <td>[{'name': 'Hans Zimmer', 'gender': 2, 'departm...</td>\n",
              "      <td>Christopher Nolan</td>\n",
              "    </tr>\n",
              "    <tr>\n",
              "      <th>4</th>\n",
              "      <td>4</td>\n",
              "      <td>260000000</td>\n",
              "      <td>Action Adventure Science Fiction</td>\n",
              "      <td>http://movies.disney.com/john-carter</td>\n",
              "      <td>49529</td>\n",
              "      <td>based on novel mars medallion space travel pri...</td>\n",
              "      <td>en</td>\n",
              "      <td>John Carter</td>\n",
              "      <td>John Carter is a war-weary, former military ca...</td>\n",
              "      <td>43.926995</td>\n",
              "      <td>...</td>\n",
              "      <td>132.0</td>\n",
              "      <td>[{\"iso_639_1\": \"en\", \"name\": \"English\"}]</td>\n",
              "      <td>Released</td>\n",
              "      <td>Lost in our world, found in another.</td>\n",
              "      <td>John Carter</td>\n",
              "      <td>6.1</td>\n",
              "      <td>2124</td>\n",
              "      <td>Taylor Kitsch Lynn Collins Samantha Morton Wil...</td>\n",
              "      <td>[{'name': 'Andrew Stanton', 'gender': 2, 'depa...</td>\n",
              "      <td>Andrew Stanton</td>\n",
              "    </tr>\n",
              "  </tbody>\n",
              "</table>\n",
              "<p>5 rows × 24 columns</p>\n",
              "</div>\n",
              "      <button class=\"colab-df-convert\" onclick=\"convertToInteractive('df-cb6156e8-c120-46f5-9f1e-c3b4d342610a')\"\n",
              "              title=\"Convert this dataframe to an interactive table.\"\n",
              "              style=\"display:none;\">\n",
              "        \n",
              "  <svg xmlns=\"http://www.w3.org/2000/svg\" height=\"24px\"viewBox=\"0 0 24 24\"\n",
              "       width=\"24px\">\n",
              "    <path d=\"M0 0h24v24H0V0z\" fill=\"none\"/>\n",
              "    <path d=\"M18.56 5.44l.94 2.06.94-2.06 2.06-.94-2.06-.94-.94-2.06-.94 2.06-2.06.94zm-11 1L8.5 8.5l.94-2.06 2.06-.94-2.06-.94L8.5 2.5l-.94 2.06-2.06.94zm10 10l.94 2.06.94-2.06 2.06-.94-2.06-.94-.94-2.06-.94 2.06-2.06.94z\"/><path d=\"M17.41 7.96l-1.37-1.37c-.4-.4-.92-.59-1.43-.59-.52 0-1.04.2-1.43.59L10.3 9.45l-7.72 7.72c-.78.78-.78 2.05 0 2.83L4 21.41c.39.39.9.59 1.41.59.51 0 1.02-.2 1.41-.59l7.78-7.78 2.81-2.81c.8-.78.8-2.07 0-2.86zM5.41 20L4 18.59l7.72-7.72 1.47 1.35L5.41 20z\"/>\n",
              "  </svg>\n",
              "      </button>\n",
              "      \n",
              "  <style>\n",
              "    .colab-df-container {\n",
              "      display:flex;\n",
              "      flex-wrap:wrap;\n",
              "      gap: 12px;\n",
              "    }\n",
              "\n",
              "    .colab-df-convert {\n",
              "      background-color: #E8F0FE;\n",
              "      border: none;\n",
              "      border-radius: 50%;\n",
              "      cursor: pointer;\n",
              "      display: none;\n",
              "      fill: #1967D2;\n",
              "      height: 32px;\n",
              "      padding: 0 0 0 0;\n",
              "      width: 32px;\n",
              "    }\n",
              "\n",
              "    .colab-df-convert:hover {\n",
              "      background-color: #E2EBFA;\n",
              "      box-shadow: 0px 1px 2px rgba(60, 64, 67, 0.3), 0px 1px 3px 1px rgba(60, 64, 67, 0.15);\n",
              "      fill: #174EA6;\n",
              "    }\n",
              "\n",
              "    [theme=dark] .colab-df-convert {\n",
              "      background-color: #3B4455;\n",
              "      fill: #D2E3FC;\n",
              "    }\n",
              "\n",
              "    [theme=dark] .colab-df-convert:hover {\n",
              "      background-color: #434B5C;\n",
              "      box-shadow: 0px 1px 3px 1px rgba(0, 0, 0, 0.15);\n",
              "      filter: drop-shadow(0px 1px 2px rgba(0, 0, 0, 0.3));\n",
              "      fill: #FFFFFF;\n",
              "    }\n",
              "  </style>\n",
              "\n",
              "      <script>\n",
              "        const buttonEl =\n",
              "          document.querySelector('#df-cb6156e8-c120-46f5-9f1e-c3b4d342610a button.colab-df-convert');\n",
              "        buttonEl.style.display =\n",
              "          google.colab.kernel.accessAllowed ? 'block' : 'none';\n",
              "\n",
              "        async function convertToInteractive(key) {\n",
              "          const element = document.querySelector('#df-cb6156e8-c120-46f5-9f1e-c3b4d342610a');\n",
              "          const dataTable =\n",
              "            await google.colab.kernel.invokeFunction('convertToInteractive',\n",
              "                                                     [key], {});\n",
              "          if (!dataTable) return;\n",
              "\n",
              "          const docLinkHtml = 'Like what you see? Visit the ' +\n",
              "            '<a target=\"_blank\" href=https://colab.research.google.com/notebooks/data_table.ipynb>data table notebook</a>'\n",
              "            + ' to learn more about interactive tables.';\n",
              "          element.innerHTML = '';\n",
              "          dataTable['output_type'] = 'display_data';\n",
              "          await google.colab.output.renderOutput(dataTable, element);\n",
              "          const docLink = document.createElement('div');\n",
              "          docLink.innerHTML = docLinkHtml;\n",
              "          element.appendChild(docLink);\n",
              "        }\n",
              "      </script>\n",
              "    </div>\n",
              "  </div>\n",
              "  "
            ]
          },
          "metadata": {},
          "execution_count": 6
        }
      ]
    },
    {
      "cell_type": "code",
      "source": [
        "movies_data.shape"
      ],
      "metadata": {
        "colab": {
          "base_uri": "https://localhost:8080/"
        },
        "id": "RK31Q8rfstsY",
        "outputId": "47cd43df-628d-4e06-a249-1af5b167beb9"
      },
      "execution_count": 7,
      "outputs": [
        {
          "output_type": "execute_result",
          "data": {
            "text/plain": [
              "(1727, 24)"
            ]
          },
          "metadata": {},
          "execution_count": 7
        }
      ]
    },
    {
      "cell_type": "code",
      "source": [
        "selected_features = ['genres','keywords','tagline','cast','director']\n",
        "print(selected_features)"
      ],
      "metadata": {
        "colab": {
          "base_uri": "https://localhost:8080/"
        },
        "id": "v7m_7IugDhTy",
        "outputId": "18d860b2-d341-442d-ba31-732122ec8568"
      },
      "execution_count": 8,
      "outputs": [
        {
          "output_type": "stream",
          "name": "stdout",
          "text": [
            "['genres', 'keywords', 'tagline', 'cast', 'director']\n"
          ]
        }
      ]
    },
    {
      "cell_type": "code",
      "source": [
        "for feature in selected_features:\n",
        "  movies_data[feature] = movies_data[feature].fillna('')"
      ],
      "metadata": {
        "id": "n4JVMB1dDmvV"
      },
      "execution_count": 9,
      "outputs": []
    },
    {
      "cell_type": "code",
      "source": [
        "combined_features = movies_data['genres']+' '+movies_data['keywords']+' '+movies_data['tagline']+' '+movies_data['cast']+' '+movies_data['director']"
      ],
      "metadata": {
        "id": "iiIXP7lqDqf-"
      },
      "execution_count": 10,
      "outputs": []
    },
    {
      "cell_type": "code",
      "source": [
        "print(combined_features)"
      ],
      "metadata": {
        "colab": {
          "base_uri": "https://localhost:8080/"
        },
        "id": "HDy-FqncDvk1",
        "outputId": "abfafa6d-eeac-4b1b-d1ef-f25772e5889c"
      },
      "execution_count": 11,
      "outputs": [
        {
          "output_type": "stream",
          "name": "stdout",
          "text": [
            "0       Action Adventure Fantasy Science Fiction cultu...\n",
            "1       Adventure Fantasy Action ocean drug abuse exot...\n",
            "2       Action Adventure Crime spy based on novel secr...\n",
            "3       Action Crime Drama Thriller dc comics crime fi...\n",
            "4       Action Adventure Science Fiction based on nove...\n",
            "                              ...                        \n",
            "1722    Thriller Horror vampire dracula bite blood vla...\n",
            "1723    Family Comedy based on novel job interview bad...\n",
            "1724    Drama Romance bachelor beautiful prejudice sui...\n",
            "1725    Science Fiction Drama Thriller artificial inte...\n",
            "1726    Adventure scotland biography 18th century high...\n",
            "Length: 1727, dtype: object\n"
          ]
        }
      ]
    },
    {
      "cell_type": "code",
      "source": [
        "vectorizer = TfidfVectorizer()"
      ],
      "metadata": {
        "id": "y0OKYAEvD0mH"
      },
      "execution_count": 12,
      "outputs": []
    },
    {
      "cell_type": "code",
      "source": [
        "feature_vectors = vectorizer.fit_transform(combined_features)"
      ],
      "metadata": {
        "id": "oY5RjAr0D3g3"
      },
      "execution_count": 13,
      "outputs": []
    },
    {
      "cell_type": "code",
      "source": [
        "print(feature_vectors)"
      ],
      "metadata": {
        "colab": {
          "base_uri": "https://localhost:8080/"
        },
        "id": "AlSjOIr7D7ob",
        "outputId": "e75053a3-046f-4fad-cabc-87431eb6aa04"
      },
      "execution_count": 16,
      "outputs": [
        {
          "output_type": "stream",
          "name": "stdout",
          "text": [
            "  (0, 1160)\t0.1681850883977992\n",
            "  (0, 3832)\t0.11845777041246705\n",
            "  (0, 6403)\t0.19297444794554108\n",
            "  (0, 4991)\t0.16360123773563218\n",
            "  (0, 4292)\t0.23498407363976623\n",
            "  (0, 7188)\t0.1588035054607688\n",
            "  (0, 8188)\t0.21118979500505486\n",
            "  (0, 6899)\t0.21480659896382445\n",
            "  (0, 6535)\t0.21884984179514655\n",
            "  (0, 8510)\t0.21884984179514655\n",
            "  (0, 8384)\t0.21884984179514655\n",
            "  (0, 6552)\t0.14968247700261542\n",
            "  (0, 5620)\t0.2525196383315525\n",
            "  (0, 5462)\t0.09386645692050875\n",
            "  (0, 8380)\t0.12134012455919724\n",
            "  (0, 7514)\t0.06968049479516267\n",
            "  (0, 2420)\t0.24264412042985792\n",
            "  (0, 7011)\t0.21480659896382445\n",
            "  (0, 1540)\t0.23498407363976623\n",
            "  (0, 8143)\t0.1242133350871461\n",
            "  (0, 7062)\t0.3191159898086201\n",
            "  (0, 2897)\t0.16360123773563218\n",
            "  (0, 1462)\t0.24264412042985792\n",
            "  (0, 1777)\t0.2525196383315525\n",
            "  (0, 2663)\t0.09512738921290718\n",
            "  :\t:\n",
            "  (1726, 7217)\t0.19785972638008756\n",
            "  (1726, 1279)\t0.18411987606681535\n",
            "  (1726, 4293)\t0.1792159112250296\n",
            "  (1726, 1308)\t0.1750696680297471\n",
            "  (1726, 4643)\t0.46371038452701513\n",
            "  (1726, 815)\t0.13419039849594144\n",
            "  (1726, 6455)\t0.16057209606997166\n",
            "  (1726, 3467)\t0.41628069179340077\n",
            "  (1726, 2434)\t0.13102234817882802\n",
            "  (1726, 3894)\t0.13102234817882802\n",
            "  (1726, 3538)\t0.15120357260579187\n",
            "  (1726, 1692)\t0.15457012817567173\n",
            "  (1726, 5309)\t0.15120357260579187\n",
            "  (1726, 4435)\t0.13876023059780027\n",
            "  (1726, 6675)\t0.1750696680297471\n",
            "  (1726, 3487)\t0.10464065060479781\n",
            "  (1726, 3934)\t0.07999486755543993\n",
            "  (1726, 7586)\t0.1186621510273604\n",
            "  (1726, 3430)\t0.11913822256457327\n",
            "  (1726, 3621)\t0.14426865547673656\n",
            "  (1726, 3945)\t0.11352327342890822\n",
            "  (1726, 4696)\t0.2139620503332413\n",
            "  (1726, 4987)\t0.08773274997441219\n",
            "  (1726, 4377)\t0.14192828091491372\n",
            "  (1726, 126)\t0.05828280679766023\n"
          ]
        }
      ]
    },
    {
      "cell_type": "code",
      "source": [
        "feature_vectors.shape"
      ],
      "metadata": {
        "colab": {
          "base_uri": "https://localhost:8080/"
        },
        "id": "y4Rr7BgpLVxB",
        "outputId": "7f372bb3-bcc0-4fbe-d875-59ff3b3e3192"
      },
      "execution_count": 31,
      "outputs": [
        {
          "output_type": "execute_result",
          "data": {
            "text/plain": [
              "(1727, 8524)"
            ]
          },
          "metadata": {},
          "execution_count": 31
        }
      ]
    },
    {
      "cell_type": "code",
      "source": [
        "similarity = cosine_similarity(feature_vectors)"
      ],
      "metadata": {
        "id": "Vt1cUIytEOaw"
      },
      "execution_count": 17,
      "outputs": []
    },
    {
      "cell_type": "code",
      "source": [
        "print(similarity)"
      ],
      "metadata": {
        "colab": {
          "base_uri": "https://localhost:8080/"
        },
        "id": "SlCdjdRNEwWr",
        "outputId": "07894a9b-adb5-4557-d137-fa177746cd16"
      },
      "execution_count": 18,
      "outputs": [
        {
          "output_type": "stream",
          "name": "stdout",
          "text": [
            "[[1.         0.0638432  0.03416697 ... 0.00906097 0.0291076  0.0043353 ]\n",
            " [0.0638432  1.         0.02754379 ... 0.09529031 0.         0.00771916]\n",
            " [0.03416697 0.02754379 1.         ... 0.         0.         0.00458222]\n",
            " ...\n",
            " [0.00906097 0.09529031 0.         ... 1.         0.00871581 0.        ]\n",
            " [0.0291076  0.         0.         ... 0.00871581 1.         0.13589306]\n",
            " [0.0043353  0.00771916 0.00458222 ... 0.         0.13589306 1.        ]]\n"
          ]
        }
      ]
    },
    {
      "cell_type": "code",
      "source": [
        "print(similarity.shape)"
      ],
      "metadata": {
        "colab": {
          "base_uri": "https://localhost:8080/"
        },
        "id": "M5Ab9bSJEzrF",
        "outputId": "800f7d2c-d5af-4806-826a-cdce0aff6ecb"
      },
      "execution_count": 19,
      "outputs": [
        {
          "output_type": "stream",
          "name": "stdout",
          "text": [
            "(1727, 1727)\n"
          ]
        }
      ]
    },
    {
      "cell_type": "code",
      "source": [
        "similarity[0]"
      ],
      "metadata": {
        "colab": {
          "base_uri": "https://localhost:8080/"
        },
        "id": "AhvyhZe7LG_K",
        "outputId": "0141371a-69d2-47b0-ca33-95f25022b46a"
      },
      "execution_count": 30,
      "outputs": [
        {
          "output_type": "execute_result",
          "data": {
            "text/plain": [
              "array([1.        , 0.0638432 , 0.03416697, ..., 0.00906097, 0.0291076 ,\n",
              "       0.0043353 ])"
            ]
          },
          "metadata": {},
          "execution_count": 30
        }
      ]
    },
    {
      "cell_type": "code",
      "source": [
        "movie_name = input(' Enter your favourite movie name : ')"
      ],
      "metadata": {
        "colab": {
          "base_uri": "https://localhost:8080/"
        },
        "id": "D3CEGxA2FfJw",
        "outputId": "cbd0e3d8-82b4-4ec5-8f9f-c8dc4714090e"
      },
      "execution_count": 20,
      "outputs": [
        {
          "name": "stdout",
          "output_type": "stream",
          "text": [
            " Enter your favourite movie name : Iron man\n"
          ]
        }
      ]
    },
    {
      "cell_type": "code",
      "source": [
        "list_of_all_titles = movies_data['title'].tolist()\n",
        "print(list_of_all_titles)"
      ],
      "metadata": {
        "colab": {
          "base_uri": "https://localhost:8080/"
        },
        "id": "_GSzktCvFsR0",
        "outputId": "c0a4657a-0b42-40cf-e485-4d488032a925"
      },
      "execution_count": 21,
      "outputs": [
        {
          "output_type": "stream",
          "name": "stdout",
          "text": [
            "['Avatar', \"Pirates of the Caribbean: At World's End\", 'Spectre', 'The Dark Knight Rises', 'John Carter', 'Spider-Man 3', 'Tangled', 'Avengers: Age of Ultron', 'Harry Potter and the Half-Blood Prince', 'Batman v Superman: Dawn of Justice', 'Superman Returns', 'Quantum of Solace', \"Pirates of the Caribbean: Dead Man's Chest\", 'The Lone Ranger', 'Man of Steel', 'The Chronicles of Narnia: Prince Caspian', 'The Avengers', 'Pirates of the Caribbean: On Stranger Tides', 'Men in Black 3', 'The Hobbit: The Battle of the Five Armies', 'The Amazing Spider-Man', 'Robin Hood', 'The Hobbit: The Desolation of Smaug', 'The Golden Compass', 'King Kong', 'Titanic', 'Captain America: Civil War', 'Battleship', 'Jurassic World', 'Skyfall', 'Spider-Man 2', 'Iron Man 3', 'Alice in Wonderland', 'X-Men: The Last Stand', 'Monsters University', 'Transformers: Revenge of the Fallen', 'Transformers: Age of Extinction', 'Oz: The Great and Powerful', 'The Amazing Spider-Man 2', 'TRON: Legacy', 'Cars 2', 'Green Lantern', 'Toy Story 3', 'Terminator Salvation', 'Furious 7', 'World War Z', 'X-Men: Days of Future Past', 'Star Trek Into Darkness', 'Jack the Giant Slayer', 'The Great Gatsby', 'Prince of Persia: The Sands of Time', 'Pacific Rim', 'Transformers: Dark of the Moon', 'Indiana Jones and the Kingdom of the Crystal Skull', 'The Good Dinosaur', 'Brave', 'Star Trek Beyond', 'WALL·E', 'Rush Hour 3', '2012', 'A Christmas Carol', 'Jupiter Ascending', 'The Legend of Tarzan', 'The Chronicles of Narnia: The Lion, the Witch and the Wardrobe', 'X-Men: Apocalypse', 'The Dark Knight', 'Up', 'Monsters vs Aliens', 'Iron Man', 'Hugo', 'Wild Wild West', 'The Mummy: Tomb of the Dragon Emperor', 'Suicide Squad', 'Evan Almighty', 'Edge of Tomorrow', 'Waterworld', 'G.I. Joe: The Rise of Cobra', 'Inside Out', 'The Jungle Book', 'Iron Man 2', 'Snow White and the Huntsman', 'Maleficent', 'Dawn of the Planet of the Apes', 'The Lovers', '47 Ronin', 'Captain America: The Winter Soldier', 'Shrek Forever After', 'Tomorrowland', 'Big Hero 6', 'Wreck-It Ralph', 'The Polar Express', 'Independence Day: Resurgence', 'How to Train Your Dragon', 'Terminator 3: Rise of the Machines', 'Guardians of the Galaxy', 'Interstellar', 'Inception', 'Shin Godzilla', 'The Hobbit: An Unexpected Journey', 'The Fast and the Furious', 'The Curious Case of Benjamin Button', 'X-Men: First Class', 'The Hunger Games: Mockingjay - Part 2', \"The Sorcerer's Apprentice\", 'Poseidon', 'Alice Through the Looking Glass', 'Shrek the Third', 'Warcraft', 'Terminator Genisys', 'The Chronicles of Narnia: The Voyage of the Dawn Treader', 'Pearl Harbor', 'Transformers', 'Alexander', 'Harry Potter and the Order of the Phoenix', 'Harry Potter and the Goblet of Fire', 'Hancock', 'I Am Legend', 'Charlie and the Chocolate Factory', 'Ratatouille', 'Batman Begins', 'Madagascar: Escape 2 Africa', 'Night at the Museum: Battle of the Smithsonian', 'X-Men Origins: Wolverine', 'The Matrix Revolutions', 'Frozen', 'The Matrix Reloaded', 'Thor: The Dark World', 'Mad Max: Fury Road', 'Angels & Demons', 'Thor', 'Bolt', 'G-Force', 'Wrath of the Titans', 'Dark Shadows', 'Mission: Impossible - Rogue Nation', 'The Wolfman', 'Bee Movie', 'Kung Fu Panda 2', 'The Last Airbender', 'Mission: Impossible III', 'White House Down', 'Mars Needs Moms', 'Flushed Away', 'Pan', 'Mr. Peabody & Sherman', 'Troy', \"Madagascar 3: Europe's Most Wanted\", 'Die Another Day', 'Ghostbusters', 'Armageddon', 'Men in Black II', 'Beowulf', 'Kung Fu Panda 3', 'Mission: Impossible - Ghost Protocol', 'Rise of the Guardians', 'Fun with Dick and Jane', 'The Last Samurai', 'Exodus: Gods and Kings', 'Star Trek', 'Spider-Man', 'How to Train Your Dragon 2', 'Gods of Egypt', 'Stealth', 'Watchmen', 'Lethal Weapon 4', 'Hulk', 'G.I. Joe: Retaliation', 'Sahara', 'Final Fantasy: The Spirits Within', 'Captain America: The First Avenger', 'The World Is Not Enough', 'Master and Commander: The Far Side of the World', 'The Twilight Saga: Breaking Dawn - Part 2', 'Happy Feet Two', 'The Incredible Hulk', 'The BFG', 'The Revenant', 'Turbo', 'Rango', 'Penguins of Madagascar', 'The Bourne Ultimatum', 'Kung Fu Panda', 'Ant-Man', 'The Hunger Games: Catching Fire', 'Home', 'War of the Worlds', 'Bad Boys II', 'Puss in Boots', 'Salt', 'Noah', 'The Adventures of Tintin', 'Harry Potter and the Prisoner of Azkaban', 'Australia', 'After Earth', 'Dinosaur', 'Night at the Museum: Secret of the Tomb', 'Megamind', \"Harry Potter and the Philosopher's Stone\", 'R.I.P.D.', 'Pirates of the Caribbean: The Curse of the Black Pearl', 'The Hunger Games: Mockingjay - Part 1', 'The Da Vinci Code', 'Rio 2', 'X2', 'Fast Five', 'Sherlock Holmes: A Game of Shadows', 'Clash of the Titans', 'Total Recall', 'The 13th Warrior', 'The Bourne Legacy', 'Batman & Robin', 'How the Grinch Stole Christmas', 'The Day After Tomorrow', 'Mission: Impossible II', 'The Perfect Storm', 'Fantastic 4: Rise of the Silver Surfer', 'Life of Pi', 'Ghost Rider', 'Jason Bourne', \"Charlie's Angels: Full Throttle\", 'Prometheus', 'Stuart Little 2', 'Elysium', 'The Chronicles of Riddick', 'RoboCop', 'Speed Racer', 'How Do You Know', 'Knight and Day', 'Oblivion', 'Star Wars: Episode III - Revenge of the Sith', 'Star Wars: Episode II - Attack of the Clones', 'Monsters, Inc.', 'The Wolverine', 'Star Wars: Episode I - The Phantom Menace', 'The Croods', 'Asterix at the Olympic Games', 'Windtalkers', \"The Huntsman: Winter's War\", 'Teenage Mutant Ninja Turtles', 'Gravity', \"Dante's Peak\", 'Teenage Mutant Ninja Turtles: Out of the Shadows', 'Fantastic Four', 'Night at the Museum', 'San Andreas', 'Tomorrow Never Dies', 'The Patriot', \"Ocean's Twelve\", 'Mr. & Mrs. Smith', 'Insurgent', 'The Aviator', \"Gulliver's Travels\", 'The Green Hornet', '300: Rise of an Empire', 'The Smurfs', 'Home on the Range', 'Allegiant', 'Real Steel', 'The Smurfs 2', 'Speed 2: Cruise Control', \"Ender's Game\", 'Live Free or Die Hard', 'The Lord of the Rings: The Fellowship of the Ring', 'Around the World in 80 Days', 'Ali', 'The Cat in the Hat', 'I, Robot', 'Kingdom of Heaven', 'Stuart Little', 'The Princess and the Frog', 'The Martian', 'The Island', 'Town & Country', 'Gone in Sixty Seconds', 'Gladiator', 'Minority Report', 'Harry Potter and the Chamber of Secrets', 'Casino Royale', 'Planet of the Apes', 'Terminator 2: Judgment Day', 'Public Enemies', 'American Gangster', 'True Lies', 'The Taking of Pelham 1 2 3', 'Little Fockers', 'The Other Guys', 'Eraser', 'Django Unchained', 'The Hunchback of Notre Dame', \"The Emperor's New Groove\", 'The Expendables 2', 'National Treasure', 'Eragon', 'Where the Wild Things Are', 'Epic', 'The Tourist', 'End of Days', 'Blood Diamond', 'The Wolf of Wall Street', 'Batman Forever', 'Starship Troopers', 'Cloud Atlas', \"Legend of the Guardians: The Owls of Ga'Hoole\", 'Catwoman', 'Hercules', 'Treasure Planet', 'Land of the Lost', 'The Expendables 3', 'Point Break', 'Son of the Mask', 'In the Heart of the Sea', 'The Adventures of Pluto Nash', 'Green Zone', 'The Peanuts Movie', 'The Spanish Prisoner', 'The Mummy Returns', 'Gangs of New York', 'The Flowers of War', \"Surf's Up\", 'The Stepford Wives', 'Black Hawk Down', 'The Campaign', 'The Fifth Element', 'Sex and the City 2', 'The Road to El Dorado', 'Ice Age: Continental Drift', 'Cinderella', 'The Lovely Bones', 'Finding Nemo', 'The Lord of the Rings: The Return of the King', 'The Lord of the Rings: The Two Towers', 'Seventh Son', 'Lara Croft: Tomb Raider', 'Transcendence', 'Jurassic Park III', 'Rise of the Planet of the Apes', 'The Spiderwick Chronicles', 'A Good Day to Die Hard', 'The Alamo', 'The Incredibles', 'Cutthroat Island', 'Percy Jackson & the Olympians: The Lightning Thief', 'Men in Black', 'Toy Story 2', 'Unstoppable', 'Rush Hour 2', 'What Lies Beneath', 'Cloudy with a Chance of Meatballs', 'Ice Age: Dawn of the Dinosaurs', 'The Secret Life of Walter Mitty', \"Charlie's Angels\", 'The Departed', 'Mulan', 'Tropic Thunder', 'The Girl with the Dragon Tattoo', 'Die Hard: With a Vengeance', 'Sherlock Holmes', 'Ben-Hur', 'Atlantis: The Lost Empire', 'Alvin and the Chipmunks: The Road Chip', 'Valkyrie', \"You Don't Mess with the Zohan\", 'Pixels', 'A.I. Artificial Intelligence', 'The Haunted Mansion', 'Contact', 'Hollow Man', 'The Interpreter', 'Percy Jackson: Sea of Monsters', 'Lara Croft Tomb Raider: The Cradle of Life', 'Now You See Me 2', 'The Saint', 'Spy Game', 'Mission to Mars', 'Rio', 'Bicentennial Man', 'Volcano', \"The Devil's Own\", 'K-19: The Widowmaker', 'Conan the Barbarian', 'Cinderella Man', 'The Nutcracker: The Untold Story', 'Seabiscuit', 'Twister', 'Cast Away', 'Happy Feet', 'The Bourne Supremacy', 'Air Force One', \"Ocean's Eleven\", 'The Three Musketeers', 'Hotel Transylvania', 'Enchanted', 'Safe House', '102 Dalmatians', 'Tower Heist', 'The Holiday', 'Enemy of the State', \"It's Complicated\", \"Ocean's Thirteen\", 'Open Season', 'Divergent', 'Enemy at the Gates', 'The Rundown', 'Last Action Hero', 'Memoirs of a Geisha', 'The Fast and the Furious: Tokyo Drift', 'Arthur Christmas', 'Meet Joe Black', 'Collateral Damage', 'All That Jazz', 'Mirror Mirror', 'Scott Pilgrim vs. the World', 'The Core', 'Nutty Professor II: The Klumps', 'Scooby-Doo', 'Dredd', 'Click', 'Creepshow', 'Cats & Dogs 2 : The Revenge of Kitty Galore', 'Jumper', 'Hellboy II: The Golden Army', 'Zodiac', 'The 6th Day', 'Bruce Almighty', 'The Expendables', 'Mission: Impossible', 'The Hunger Games', 'The Hangover Part II', 'Batman Returns', 'Over the Hedge', 'Lilo & Stitch', \"Charlotte's Web\", 'Deep Impact', 'RED 2', 'The Longest Yard', 'Alvin and the Chipmunks: Chipwrecked', 'Grown Ups 2', 'Get Smart', \"Something's Gotta Give\", 'Shutter Island', 'Four Christmases', 'Robots', 'Face/Off', 'Bedtime Stories', 'Road to Perdition', 'Just Go with It', 'Con Air', 'Eagle Eye', 'Cold Mountain', 'The Book of Eli', 'Flubber', 'The Haunting', 'Space Jam', 'The Pink Panther', 'The Day the Earth Stood Still', 'Conspiracy Theory', 'Fury', 'Six Days Seven Nights', 'Yogi Bear', 'Spirit: Stallion of the Cimarron', 'Zookeeper', 'Lost in Space', 'The Manchurian Candidate', 'Déjà Vu', 'Hotel Transylvania 2', 'Fantasia 2000', 'The Time Machine', 'Mighty Joe Young', 'Swordfish', 'The Legend of Zorro', 'What Dreams May Come', 'Little Nicky', 'The Brothers Grimm', 'Mars Attacks!', 'Evolution', 'The Edge', 'Surrogates', 'Thirteen Days', 'Daylight', 'Walking With Dinosaurs', 'Battlefield Earth', 'Looney Tunes: Back in Action', 'Nine', 'Timeline', 'The Postman', 'Babe: Pig in the City', 'The Last Witch Hunter', 'Red Planet', 'Arthur and the Invisibles', 'Oceans', 'A Sound of Thunder', 'Pompeii', 'Top Cat Begins', 'A Beautiful Mind', 'The Lion King', 'Journey 2: The Mysterious Island', 'Cloudy with a Chance of Meatballs 2', 'Red Dragon', 'Hidalgo', 'Jack and Jill', '2 Fast 2 Furious', 'The Little Prince', 'The Invasion', 'The Adventures of Rocky & Bullwinkle', 'The Secret Life of Pets', 'The League of Extraordinary Gentlemen', 'Despicable Me 2', 'Independence Day', 'The Lost World: Jurassic Park', 'Madagascar', 'Children of Men', 'X-Men', 'Wanted', 'The Rock', 'Ice Age: The Meltdown', '50 First Dates', 'Hairspray', 'Exorcist: The Beginning', 'Inspector Gadget', 'Now You See Me', 'Grown Ups', 'The Terminal', 'Hotel for Dogs', 'Vertical Limit', \"Charlie Wilson's War\", 'Shark Tale', 'Dreamgirls', 'Be Cool', 'Munich', 'Tears of the Sun', 'Killers', 'The Man from U.N.C.L.E.', 'Spanglish', 'Monster House', 'Bandits', 'First Knight', 'Anna and the King', 'Immortals', 'Hostage', 'Titan A.E.', 'Hollywood Homicide', 'Soldier', 'Carriers', 'Monkeybone', 'Flight of the Phoenix', 'Unbreakable', 'Minions', 'Sucker Punch', 'Snake Eyes', 'Sphere', 'The Angry Birds Movie', \"Fool's Gold\", 'Funny People', 'The Kingdom', 'Talladega Nights: The Ballad of Ricky Bobby', 'Dr. Dolittle 2', 'Braveheart', 'Jarhead', 'The Simpsons Movie', 'The Majestic', 'Driven', 'Two Brothers', 'The Village', 'Doctor Dolittle', 'Signs', 'Shrek 2', 'Cars', 'Runaway Bride', 'xXx', 'The SpongeBob Movie: Sponge Out of Water', 'Ransom', 'Inglourious Basterds', 'Hook', 'Die Hard 2', 'S.W.A.T.', 'Vanilla Sky', 'Lady in the Water', 'AVP: Alien vs. Predator', 'Alvin and the Chipmunks: The Squeakquel', 'We Were Soldiers', 'Olympus Has Fallen', 'Star Trek: Insurrection', 'Battle: Los Angeles', 'Big Fish', 'Wolf', 'War Horse', 'The Monuments Men', 'The Abyss', 'Wall Street: Money Never Sleeps', 'Dracula Untold', 'The Siege', 'Stardust', 'Seven Years in Tibet', 'The Dilemma', 'Bad Company', 'Doom', 'I Spy', 'Underworld: Awakening', 'Rock of Ages', \"Hart's War\", 'Killer Elite', 'Rollerball', 'Ballistic: Ecks vs. Sever', 'Hard Rain', 'Osmosis Jones', \"Legends of Oz: Dorothy's Return\", 'Blackhat', 'Sky Captain and the World of Tomorrow', 'Basic Instinct 2', 'Escape Plan', 'The Legend of Hercules', 'The Sum of All Fears', 'The Twilight Saga: Eclipse', 'The Score', 'Despicable Me', 'Money Train', 'Ted 2', 'Agora', 'Mystery Men', 'Hall Pass', 'The Insider', 'The Finest Hours', 'Body of Lies', 'Dinner for Schmucks', 'Abraham Lincoln: Vampire Hunter', 'Entrapment', 'The X Files', 'The Last Legion', 'Saving Private Ryan', 'Need for Speed', 'What Women Want', 'Ice Age', 'Dreamcatcher', 'Lincoln', 'The Matrix', 'Apollo 13', 'The Santa Clause 2', 'Les Misérables', \"You've Got Mail\", 'Step Brothers', 'The Mask of Zorro', 'Due Date', 'Unbroken', 'Space Cowboys', 'Cliffhanger', 'Broken Arrow', 'The Kid', 'World Trade Center', 'Mona Lisa Smile', 'The Dictator', 'Eyes Wide Shut', 'Annie', 'Focus', 'This Means War', 'Blade: Trinity', 'Red Dawn', 'Primary Colors', 'Resident Evil: Retribution', 'Death Race', 'The Long Kiss Goodnight', 'Proof of Life', 'Zathura: A Space Adventure', 'Fight Club', 'We Are Marshall', 'Hudson Hawk', 'Lucky Numbers', 'I, Frankenstein', 'Oliver Twist', 'Elektra', 'Sin City: A Dame to Kill For', 'Random Hearts', 'Everest', 'Perfume: The Story of a Murderer', 'Austin Powers in Goldmember', 'Astro Boy', 'Jurassic Park', 'Wyatt Earp', 'Clear and Present Danger', 'Dragon Blade', 'Little Man', 'U-571', 'The American President', 'The Love Guru', '3000 Miles to Graceland', 'The Hateful Eight', 'Blades of Glory', 'Hop', '300', 'Meet the Fockers', 'Marley & Me', 'The Green Mile', 'Wild Hogs', 'Chicken Little', 'Gone Girl', 'The Bourne Identity', 'GoldenEye', \"The General's Daughter\", 'The Truman Show', 'The Prince of Egypt', 'Daddy Day Care', '2 Guns', 'Cats & Dogs', 'The Italian Job', 'Two Weeks Notice', 'Antz', 'Couples Retreat', 'Days of Thunder', 'Cheaper by the Dozen 2', 'Maze Runner: The Scorch Trials', 'Eat Pray Love', 'The Family Man', 'RED', 'Any Given Sunday', 'The Horse Whisperer', 'Collateral', 'The Scorpion King', 'Ladder 49', 'Jack Reacher', 'Deep Blue Sea', 'This Is It', 'Contagion', 'Kangaroo Jack', 'Coraline', 'The Happening', 'Man on Fire', 'The Shaggy Dog', 'Starsky & Hutch', 'Jingle All the Way', 'Hellboy', 'A Civil Action', 'ParaNorman', 'The Jackal', 'Paycheck', 'Up Close & Personal', 'The Tale of Despereaux', 'The Tuxedo', 'Under Siege 2: Dark Territory', 'Jack Ryan: Shadow Recruit', 'Joy', 'London Has Fallen', 'Alien: Resurrection', 'Shooter', 'The Boxtrolls', 'Practical Magic', 'The Lego Movie', 'Miss Congeniality 2: Armed and Fabulous', 'Reign of Fire', 'Gangster Squad', 'Year One', 'Invictus', 'State of Play', 'Duplicity', 'My Favorite Martian', 'The Sentinel', 'Planet 51', 'Star Trek: Nemesis', 'Intolerable Cruelty', 'Trouble with the Curve', 'Edge of Darkness', 'The Relic', 'Analyze That', 'Righteous Kill', 'Mercury Rising', 'The Soloist', 'The Legend of Bagger Vance', 'Almost Famous', 'Garfield: A Tail of Two Kitties', 'xXx: State of the Union', 'Priest', 'Sinbad: Legend of the Seven Seas', 'Event Horizon', 'Dragonfly', 'The Black Dahlia', 'Flyboys', 'The Last Castle', 'Supernova', \"Winter's Tale\", 'The Mortal Instruments: City of Bones', 'Meet Dave', 'Dark Water', 'Edtv', 'Inkheart', 'The Spirit', 'Mortdecai', 'In the Name of the King: A Dungeon Siege Tale', 'Beyond Borders', 'The Monkey King 2', 'The Great Raid', 'Deadpool', 'Holy Man', 'American Sniper', 'Goosebumps', 'Just Like Heaven', 'The Flintstones in Viva Rock Vegas', 'Rambo III', 'Leatherheads', 'The Ridiculous 6', 'Did You Hear About the Morgans?', 'The Internship', 'Resident Evil: Afterlife', 'Red Tails', \"The Devil's Advocate\", \"That's My Boy\", 'DragonHeart', 'After the Sunset', 'Ghost Rider: Spirit of Vengeance', \"Captain Corelli's Mandolin\", 'The Pacifier', 'Walking Tall', 'Forrest Gump', 'Alvin and the Chipmunks', 'Meet the Parents', 'Pocahontas', 'Superman', 'The Nutty Professor', 'Hitch', 'George of the Jungle', 'American Wedding', 'Captain Phillips', 'Date Night', 'Casper', 'The Equalizer', 'Maid in Manhattan', 'Crimson Tide', 'The Pursuit of Happyness', 'Flightplan', 'Disclosure', 'City of Angels', 'Kill Bill: Vol. 1', 'Bowfinger', 'Kill Bill: Vol. 2', 'Tango & Cash', 'Death Becomes Her', 'Shanghai Noon', 'Executive Decision', \"Mr. Popper's Penguins\", 'The Forbidden Kingdom', 'Free Birds', 'Alien³', 'Evita', 'Ronin', 'The Ghost and the Darkness', 'Paddington', 'The Watch', 'The Hunted', 'Instinct', 'Stuck on You', 'Semi-Pro', 'The Pirates! In an Adventure with Scientists!', 'Changeling', 'Chain Reaction', 'The Fan', 'The Phantom of the Opera', 'Elizabeth: The Golden Age', 'Æon Flux', 'Gods and Generals', 'Turbulence', 'Imagine That', 'Muppets Most Wanted', 'Thunderbirds', 'Burlesque', 'A Very Long Engagement', 'Lolita', 'D-Tox', 'Blade II', 'Seven Pounds', 'Bullet to the Head', 'The Godfather: Part III', 'Elizabethtown', 'You, Me and Dupree', 'Superman II', 'Gigli', \"All the King's Men\", 'Shaft', 'Anastasia', 'Moulin Rouge!', 'Domestic Disturbance', 'Black Mass', 'Flags of Our Fathers', 'Law Abiding Citizen', 'Grindhouse', 'Beloved', 'Lucky You', 'Catch Me If You Can', 'Zero Dark Thirty', 'The Break-Up', 'Mamma Mia!', \"Valentine's Day\", 'The Dukes of Hazzard', 'The Thin Red Line', 'The Change-Up', 'Man on the Moon', 'Casino', 'From Paris with Love', 'Bulletproof Monk', 'Me, Myself & Irene', 'Barnyard', 'Deck the Halls', 'The Twilight Saga: New Moon', 'Shrek', 'The Adjustment Bureau', 'Robin Hood: Prince of Thieves', 'Jerry Maguire', 'Ted', 'As Good as It Gets', 'Patch Adams', 'Anchorman 2: The Legend Continues', 'Mr. Deeds', 'Super 8', 'Erin Brockovich', 'How to Lose a Guy in 10 Days', '22 Jump Street', 'Interview with the Vampire', 'Yes Man', 'Central Intelligence', 'Stepmom', \"Daddy's Home\", 'Into the Woods', 'Inside Man', 'Payback', 'Congo', 'We Bought a Zoo', 'Knowing', 'Failure to Launch', 'The Ring Two', 'Crazy, Stupid, Love.', 'Garfield', 'Christmas with the Kranks', 'Moneyball', 'Outbreak', 'Non-Stop', 'Race to Witch Mountain', 'V for Vendetta', 'Shanghai Knights', 'Curious George', 'Herbie Fully Loaded', \"Don't Say a Word\", 'Hansel & Gretel: Witch Hunters', 'Unfaithful', 'I Am Number Four', 'Syriana', '13 Hours: The Secret Soldiers of Benghazi', 'The Book of Life', 'Firewall', 'Absolute Power', 'G.I. Jane', 'The Game', 'Silent Hill', 'The Replacements', 'American Reunion', 'The Negotiator', 'Into the Storm', 'Beverly Hills Cop III', 'Gremlins 2: The New Batch', 'The Judge', 'The Peacemaker', 'Resident Evil: Apocalypse', 'Bridget Jones: The Edge of Reason', 'Out of Time', 'On Deadly Ground', 'The Adventures of Sharkboy and Lavagirl', 'The Beach', 'Raising Helen', 'Ninja Assassin', 'For Love of the Game', 'Striptease', 'Marmaduke', 'Hereafter', 'Murder by Numbers', 'Assassins', 'Hannibal Rising', 'The Story of Us', 'The Host', 'Basic', 'Blood Work', 'The International', 'Escape from L.A.', 'The Iron Giant', 'The Life Aquatic with Steve Zissou', 'Free State of Jones', 'The Life of David Gale', 'Man of the House', 'Run All Night', 'Eastern Promises', 'Into the Blue', 'The Messenger: The Story of Joan of Arc', 'Your Highness', 'Dream House', 'Mad City', \"Baby's Day Out\", 'The Scarlet Letter', 'Fair Game', 'Domino', 'Jade', 'Gamer', 'Beautiful Creatures', 'Death to Smoochy', 'Zoolander 2', 'The Big Bounce', 'What Planet Are You From?', 'Drive Angry', 'Street Fighter: The Legend of Chun-Li', 'The One', 'The Adventures of Ford Fairlane', 'The Boat That Rocked', 'Traffic', 'Indiana Jones and the Last Crusade', 'Anna Karenina', 'Chappie', 'The Bone Collector', 'Panic Room', 'The Tooth Fairy', 'Three Kings', 'Child 44', 'Rat Race', 'K-PAX', 'Kate & Leopold', 'Bedazzled', 'The Cotton Club', '3:10 to Yuma', 'Taken 3', 'Out of Sight', 'The Cable Guy', 'Earth', 'Dick Tracy', 'The Thomas Crown Affair', 'Riding in Cars with Boys', 'First Blood', 'Solaris', \"Happily N'Ever After\", 'Mary Reilly', \"My Best Friend's Wedding\", \"America's Sweethearts\", 'Insomnia', 'Star Trek: First Contact', 'Jonah Hex', 'Courage Under Fire', 'Liar Liar', 'The Infiltrator', 'Inchon', 'The Flintstones', 'Taken 2', 'Scary Movie 3', 'Miss Congeniality', 'Journey to the Center of the Earth', 'The Princess Diaries 2: Royal Engagement', 'The Pelican Brief', 'The Client', 'The Bucket List', 'Patriot Games', 'Monster-in-Law', 'Prisoners', 'Training Day', 'Galaxy Quest', 'Scary Movie 2', 'The Muppets', 'Blade', 'Coach Carter', 'Changing Lanes', 'Anaconda', 'Coyote Ugly', 'Love Actually', \"A Bug's Life\", 'From Hell', 'The Specialist', 'Tin Cup', 'Yours, Mine and Ours', 'Kicking & Screaming', \"The Hitchhiker's Guide to the Galaxy\", 'Fat Albert', 'Resident Evil: Extinction', 'Blended', 'Last Holiday', 'The River Wild', 'The Indian in the Cupboard', 'Savages', 'Cellular', 'Johnny English', 'The Ant Bully', 'Dune', 'Across the Universe', 'Revolutionary Road', '16 Blocks', 'Babylon A.D.', 'The Glimmer Man', 'Multiplicity', 'Aliens in the Attic', 'The Pledge', 'The Producers', 'The Phantom', 'All the Pretty Horses', 'Nixon', 'The Ghost Writer', 'Deep Rising', 'Miracle at St. Anna', 'Curse of the Golden Flower', 'Bangkok Dangerous', 'Big Trouble', 'Love in the Time of Cholera', 'Shadow Conspiracy', 'Johnny English Reborn', 'Foodfight!', 'Argo', 'The Fugitive', 'The Bounty Hunter', 'Sleepers', 'Rambo: First Blood Part II', 'The Juror', 'Pinocchio', \"Heaven's Gate\", 'Underworld: Evolution', 'Victor Frankenstein', 'Finding Forrester', '28 Days', 'Unleashed', 'The Sweetest Thing', 'The Firm', 'Charlie St. Cloud', 'The Mechanic', '21 Jump Street', 'Notting Hill', 'Chicken Run', 'Along Came Polly', 'Boomerang', 'The Heat', 'Cleopatra', 'Here Comes the Boom', 'High Crimes', 'The Mirror Has Two Faces', 'The Mothman Prophecies', 'Brüno', 'Licence to Kill', 'Red Riding Hood', '15 Minutes', 'Super Mario Bros.', 'Lord of War', 'Hero', 'One for the Money', 'The Interview', \"The Warrior's Way\", 'Micmacs', '8 Mile', 'Why I Did (Not) Eat My Father', \"A Knight's Tale\", 'The Medallion', 'The Sixth Sense', 'Man on a Ledge', 'The Big Year', 'The Karate Kid', 'American Hustle', 'The Proposal', 'Double Jeopardy', 'Back to the Future Part II', 'Lucy', 'Fifty Shades of Grey', 'Spy Kids 3-D: Game Over', 'A Time to Kill', 'Cheaper by the Dozen', 'Lone Survivor', 'A League of Their Own', 'The Conjuring 2', 'The Social Network', \"He's Just Not That Into You\", 'Scary Movie 4', 'Scream 3', 'Back to the Future Part III', 'Get Hard', 'Dracula', 'Julie & Julia', '42', 'The Talented Mr. Ripley', 'Dumb and Dumber To', 'Eight Below', 'The Intern', 'Ride Along 2', 'The Last of the Mohicans', 'Ray', 'Sin City', 'Vantage Point', 'I Love You, Man', 'Shallow Hal', 'JFK', \"Big Momma's House 2\", 'The Mexican', '17 Again', 'The Other Woman', 'The Final Destination', 'Bridge of Spies', 'Behind Enemy Lines', 'Get Him to the Greek', 'Shall We Dance?', 'Small Soldiers', 'Spawn', 'The Count of Monte Cristo', 'The Lincoln Lawyer', 'Unknown', 'The Prestige', 'Horrible Bosses 2', 'Escape from Planet Earth', 'Apocalypto', 'The Living Daylights', 'Predators', 'Legal Eagles', 'Secret Window', 'The Lake House', 'The Skeleton Key', 'The Odd Life of Timothy Green', 'Made of Honor', 'Jersey Boys', 'The Rainmaker', 'Gothika', 'Amistad', 'Medicine Man', 'Aliens vs Predator: Requiem', 'Ri¢hie Ri¢h', 'Autumn in New York', 'Music and Lyrics', 'Paul', 'The Guilt Trip', 'Scream 4', '8MM', 'The Doors', 'Sex Tape', 'Hanging Up', 'Final Destination 5', 'Mickey Blue Eyes', 'Pay It Forward', 'Fever Pitch', 'Drillbit Taylor', 'A Million Ways to Die in the West', 'The Shadow', 'Extremely Loud & Incredibly Close', 'Morning Glory', \"Get Rich or Die Tryin'\", 'The Art of War', 'Rent', 'Bless the Child', 'The Out-of-Towners', 'The Island of Dr. Moreau', 'The Musketeer', 'The Other Boleyn Girl', 'Sweet November', 'The Reaping', 'Mean Streets', 'Renaissance Man', 'Colombiana', 'Quest for Camelot', 'City By The Sea', 'At First Sight', 'Torque', 'City Hall', 'Showgirls', 'Marie Antoinette', 'Kiss of Death', 'Get Carter', 'The Impossible', 'Ishtar', 'Fantastic Mr. Fox', 'Life or Something Like It', 'Memoirs of an Invisible Man', 'Amélie', 'New York Minute', 'Alfie', 'Big Miracle', 'The Deep End of the Ocean', 'FearDotCom', \"Cirque du Freak: The Vampire's Assistant\", 'Duplex', 'Soul Men', 'Raise the Titanic', 'Universal Soldier: The Return', 'Pandorum', 'Impostor', 'Extreme Ops', 'Just Visiting', 'Sunshine', 'A Thousand Words', 'Delgo', 'The Gunman', 'Stormbreaker', 'Disturbia', 'Hackers', 'The Hunting Party', 'The Hudsucker Proxy', 'The Warlords', 'Nomad: The Warrior', 'Snowpiercer', 'A Monster in Paris', 'The Last Shot', 'The Crow', 'Baahubali: The Beginning', \"The Time Traveler's Wife\", 'Because I Said So', 'Frankenweenie', 'Serenity', 'Against the Ropes', 'Superman III', 'Grudge Match', 'Red Cliff', 'Sweet Home Alabama', 'The Ugly Truth', 'Sgt. Bilko', 'Spy Kids 2: The Island of Lost Dreams', 'Star Trek: Generations', 'The Grandmaster', 'Water for Elephants', \"Dragon Nest: Warriors' Dawn\", 'The Hurricane', 'Enough', 'Heartbreakers', 'Paul Blart: Mall Cop 2', 'Angel Eyes', 'Joe Somebody', 'The Ninth Gate', 'Extreme Measures', 'Rock Star', 'Precious', 'White Squall', 'The Thing', 'Riddick', 'Switchback', 'Texas Rangers', 'City of Ember', 'The Master', 'Virgin Territory', 'The Express', 'The 5th Wave', 'Creed', 'The Town', \"What to Expect When You're Expecting\", 'Burn After Reading', \"Nim's Island\", 'Rush', 'Magnolia', 'Cop Out', 'How to Be Single', 'Dolphin Tale', 'Twilight', 'John Q', 'Blue Streak', \"We're the Millers\", 'The Inhabited Island', 'Breakdown', 'Never Say Never Again', 'Hot Tub Time Machine', 'Dolphin Tale 2', 'Reindeer Games', 'A Man Apart', 'Aloha', 'Ghosts of Mississippi', 'Snow Falling on Cedars', 'The Rite', 'Gattaca', \"Isn't She Great\", 'Space Chimps', 'Head of State', 'The Hangover', 'Ip Man 3', 'Austin Powers: The Spy Who Shagged Me', 'Batman', 'There Be Dragons', 'Lethal Weapon 3', 'The Blind Side', 'Spy Kids', 'Horrible Bosses', 'True Grit', 'The Devil Wears Prada', 'Star Trek: The Motion Picture', 'Identity Thief', 'Cape Fear', '21', 'Trainwreck', 'Guess Who', 'The English Patient', 'L.A. Confidential', 'Sky High', 'In & Out', 'Species', 'A Nightmare on Elm Street', 'The Cell', 'The Man in the Iron Mask', 'Secretariat', 'TMNT', 'Radio', 'Friends with Benefits', 'Neighbors 2: Sorority Rising', 'Saving Mr. Banks', 'Malcolm X', 'This Is 40', 'Old Dogs', 'Underworld: Rise of the Lycans', 'License to Wed', 'The Benchwarmers', 'Must Love Dogs', 'Donnie Brasco', 'Resident Evil', 'Poltergeist', 'The Ladykillers', 'Max Payne', 'In Time', 'The Back-Up Plan', 'Something Borrowed', 'Black Knight', 'The Bad News Bears', 'Street Fighter', 'The Pianist', 'The Nativity Story', 'House of Wax', 'Closer', 'J. Edgar', 'Mirrors', 'Queen of the Damned', 'Predator 2', 'Untraceable', 'Blast from the Past', 'Flash Gordon', 'Jersey Girl', 'Alex Cross', 'Midnight in the Garden of Good and Evil', 'Heist', 'Nanny McPhee and the Big Bang', 'Hoffa', 'The X Files: I Want to Believe', 'Ella Enchanted', 'Concussion', 'Abduction', 'Valiant', 'Wonder Boys', 'Superhero Movie', 'Broken City', 'Cursed', 'Premium Rush', 'Hot Pursuit', 'The Four Feathers', 'Parker', 'Wimbledon', 'Furry Vengeance', 'Bait', 'Krull', 'Lions for Lambs', 'Flight of the Intruder', 'Walk Hard: The Dewey Cox Story', 'The Shipping News', 'American Outlaws', 'The Young Victoria', 'Whiteout', 'The Tree of Life', 'Knock Off', 'Sabotage', 'The Order', 'Punisher: War Zone', 'Zoom', 'The Walk', 'Warriors of Virtue', 'A Good Year', 'Radio Flyer', 'Bound by Honor', \"Smilla's Sense of Snow\", 'Femme Fatale', 'Lion of the Desert', 'The Horseman on the Roof', 'Ride with the Devil', 'Biutiful', 'Bandidas', 'Black Water Transit', 'The Maze Runner', 'Unfinished Business', 'The Age of Innocence', 'The Fountain', 'Chill Factor', 'Stolen', 'Ponyo', 'The Longest Ride', \"The Astronaut's Wife\", 'I Dreamed of Africa', 'Playing for Keeps', 'Mandela: Long Walk to Freedom', 'Reds', 'A Few Good Men', 'Exit Wounds', \"Big Momma's House\", 'Thunder and the House of Magic', 'The Darkest Hour', 'Step Up Revolution', 'Snakes on a Plane', 'The Watcher', 'The Punisher', 'Goal!: The Dream Begins', 'Safe', 'Pushing Tin', 'Return of the Jedi', 'Doomsday', 'The Reader', 'Wanderlust', 'Elf', 'Phenomenon', 'Snow Dogs', 'Scrooged', 'Nacho Libre', 'Bridesmaids', 'This Is the End', 'Stigmata', 'Men of Honor', 'Takers', 'The Big Wedding', 'Big Mommas: Like Father, Like Son', 'Source Code', 'Alive', 'The Number 23', 'The Young and Prodigious T.S. Spivet', '1941', 'Dreamer: Inspired By a True Story', 'A History of Violence', 'Transporter 2', 'The Quick and the Dead', 'Laws of Attraction', 'Bringing Out the Dead', 'Repo Men', 'Dragon Wars: D-War', 'Bogus', 'The Incredible Burt Wonderstone', \"Cats Don't Dance\", 'Cradle Will Rock', 'The Good German', 'George and the Dragon', 'Apocalypse Now', 'Going the Distance', \"Mr. Holland's Opus\", 'Criminal', 'Out of Africa', 'Flight', 'Moonraker', 'The Grand Budapest Hotel', 'Hearts in Atlantis', 'Arachnophobia', 'Frequency', 'Vacation', 'Get Shorty', 'Chicago', 'Big Daddy', 'American Pie 2', 'Toy Story', 'Speed', 'The Vow', 'Extraordinary Measures', 'Remember the Titans', 'The Hunt for Red October', 'The Butler', 'DodgeBall: A True Underdog Story', 'The Addams Family', 'Ace Ventura: When Nature Calls', 'The Princess Diaries', 'The First Wives Club', 'Se7en', 'District 9', 'The SpongeBob SquarePants Movie', 'Mystic River', 'Million Dollar Baby', 'Analyze This', 'The Notebook', '27 Dresses', 'Hannah Montana: The Movie', 'Rugrats in Paris: The Movie', 'The Prince of Tides', 'Legends of the Fall', 'Up in the Air', 'About Schmidt', 'Warm Bodies', 'Looper', 'Down to Earth', 'Babe', 'Hope Springs', 'Forgetting Sarah Marshall', 'Four Brothers', 'Baby Mama', 'Hope Floats', 'Bride Wars', 'Without a Paddle', '13 Going on 30', 'Midnight in Paris', 'The Nut Job', 'Blow', 'Message in a Bottle', 'Star Trek V: The Final Frontier', 'Like Mike', 'The Naked Gun 33⅓: The Final Insult', 'A View to a Kill', 'The Curse of the Were-Rabbit', 'P.S. I Love You', 'Racing Stripes', 'Atonement', 'Letters to Juliet', 'Black Rain', 'The Three Stooges', 'Corpse Bride', 'Glory Road', 'Sicario', 'Southpaw', 'Drag Me to Hell', 'The Age of Adaline', 'Secondhand Lions', 'Step Up 3D', 'Blue Crush', 'Stranger Than Fiction', '30 Days of Night', 'The Cabin in the Woods', 'Meet the Spartans', 'Midnight Run', 'The Running Man', 'Little Shop of Horrors', 'Hanna', 'Mortal Kombat: Annihilation', 'Larry Crowne', 'Carrie', 'Take the Lead', 'Gridiron Gang', \"What's the Worst That Could Happen?\", '9', 'Side Effects', 'The Prince & Me', 'Winnie the Pooh', 'Dumb and Dumberer: When Harry Met Lloyd', 'Bulworth', 'Get on Up', 'One True Thing', 'Virtuosity', 'My Super Ex-Girlfriend', 'Deliver Us from Evil', 'Sanctum', 'Little Black Book', 'The Five-Year Engagement', 'Mr. 3000', 'The Next Three Days', 'Ultraviolet', 'Assault on Precinct 13', 'The Replacement Killers', 'Fled', 'Eight Legged Freaks', 'Love & Other Drugs', '88 Minutes', 'North Country', 'The Whole Ten Yards', 'Splice', 'Howard the Duck', 'Pride and Glory', 'The Cave', 'Alex & Emma', 'Wicker Park', 'Fright Night', 'The New World', 'Wing Commander', 'In Dreams', 'Dragonball Evolution', 'The Last Stand', 'Godsend', 'Chasing Liberty', 'Hoodwinked Too! Hood VS. Evil', 'An Unfinished Life', 'The Imaginarium of Doctor Parnassus', \"Barney's Version\", 'Runner Runner', 'Antitrust', 'Glory', 'Once Upon a Time in America', 'Dead Man Down', 'The Merchant of Venice', 'The Good Thief', 'Supercross', 'Miss Potter', 'The Promise', 'DOA: Dead or Alive', 'The Assassination of Jesse James by the Coward Robert Ford', '1911', 'Little Nicholas', 'Wild Card', 'Machine Gun Preacher', 'Animals United', 'Goodbye Bafana', 'United Passions', 'Grace of Monaco', 'Savva. Heart of the Warrior', \"Ripley's Game\", 'Sausage Party', 'Pitch Perfect 2', 'Walk the Line', 'Keeping the Faith', 'The Borrowers', 'Frost/Nixon', 'Confessions of a Dangerous Mind', 'Serving Sara', 'The Boss', 'Cry Freedom', 'Mumford', 'Seed of Chucky', 'The Jacket', 'Aladdin', 'Straight Outta Compton', 'Indiana Jones and the Temple of Doom', 'The Rugrats Movie', 'Along Came a Spider', 'Florence Foster Jenkins', 'Once Upon a Time in Mexico', 'Die Hard', 'Role Models', 'The Big Short', 'Taking Woodstock', 'Miracle', 'Dawn of the Dead', 'The Wedding Planner', 'Space Pirate Captain Harlock', 'The Royal Tenenbaums', 'Identity', 'Last Vegas', 'For Your Eyes Only', 'Serendipity', 'Timecop', 'Zoolander', 'Safe Haven', 'Hocus Pocus', 'No Reservations', 'Kick-Ass', '30 Minutes or Less', 'Dracula 2000', 'Alexander and the Terrible, Horrible, No Good, Very Bad Day', 'Pride & Prejudice', 'Blade Runner', 'Rob Roy']\n"
          ]
        }
      ]
    },
    {
      "cell_type": "code",
      "source": [
        "find_close_match = difflib.get_close_matches(movie_name, list_of_all_titles)\n",
        "print(find_close_match)"
      ],
      "metadata": {
        "colab": {
          "base_uri": "https://localhost:8080/"
        },
        "id": "mliT6NiMFzS-",
        "outputId": "a1b1079c-877b-4ce2-aec5-8aaba50f2d85"
      },
      "execution_count": 22,
      "outputs": [
        {
          "output_type": "stream",
          "name": "stdout",
          "text": [
            "['Iron Man', 'Iron Man 3', 'Iron Man 2']\n"
          ]
        }
      ]
    },
    {
      "cell_type": "code",
      "source": [
        "close_match = find_close_match[0]\n",
        "print(close_match)"
      ],
      "metadata": {
        "colab": {
          "base_uri": "https://localhost:8080/"
        },
        "id": "CkHmlcMQF6Eu",
        "outputId": "c846ca9d-2573-4ee5-abc1-24ca1fd21115"
      },
      "execution_count": 23,
      "outputs": [
        {
          "output_type": "stream",
          "name": "stdout",
          "text": [
            "Iron Man\n"
          ]
        }
      ]
    },
    {
      "cell_type": "code",
      "source": [
        "index_of_the_movie = movies_data[movies_data.title == close_match]['index'].values[0]\n",
        "print(index_of_the_movie)"
      ],
      "metadata": {
        "colab": {
          "base_uri": "https://localhost:8080/"
        },
        "id": "dgnP_d9jGJ8x",
        "outputId": "7a47c1a0-c9ed-4c1e-a7f5-1f50a75890fe"
      },
      "execution_count": 24,
      "outputs": [
        {
          "output_type": "stream",
          "name": "stdout",
          "text": [
            "68\n"
          ]
        }
      ]
    },
    {
      "cell_type": "code",
      "source": [
        "similarity_score = list(enumerate(similarity[index_of_the_movie]))\n",
        "print(similarity_score)"
      ],
      "metadata": {
        "colab": {
          "base_uri": "https://localhost:8080/"
        },
        "id": "KOKJOzrHGR-M",
        "outputId": "b68f82c1-f197-46b6-b8cd-299769822d68"
      },
      "execution_count": 25,
      "outputs": [
        {
          "output_type": "stream",
          "name": "stdout",
          "text": [
            "[(0, 0.02672161426174173), (1, 0.04986396079931407), (2, 0.01000826036048587), (3, 0.004803878488481836), (4, 0.025719002683506683), (5, 0.009893136012725033), (6, 0.08185065876322486), (7, 0.21650922967093625), (8, 0.005542704093598995), (9, 0.06386963822166346), (10, 0.063434644709376), (11, 0.008362179368558735), (12, 0.009896358629568162), (13, 0.00868098357711408), (14, 0.08199861878804651), (15, 0.005132454908910378), (16, 0.20870880803195604), (17, 0.009329591449020971), (18, 0.03825082920484583), (19, 0.07932570423224793), (20, 0.06470453778735946), (21, 0.008157934965945041), (22, 0.004972066272176751), (23, 0.004624391911182676), (24, 0.008448600177311343), (25, 0.0), (26, 0.19541480742952172), (27, 0.024890323553055857), (28, 0.05509636860933315), (29, 0.009893326230285417), (30, 0.0644443232924636), (31, 0.2929713662704675), (32, 0.0305271462690328), (33, 0.11049749733846907), (34, 0.0), (35, 0.028864729191817526), (36, 0.026223234499147274), (37, 0.005605677685552888), (38, 0.0913193560202922), (39, 0.09141964702912908), (40, 0.0056772396982247425), (41, 0.05456782118205204), (42, 0.0), (43, 0.05164638674441574), (44, 0.004518030725301837), (45, 0.019679710660507947), (46, 0.12357980825071643), (47, 0.030510983970392192), (48, 0.00993101514471224), (49, 0.0), (50, 0.009235157151593607), (51, 0.022396784421628523), (52, 0.02475338652505912), (53, 0.015940666043855994), (54, 0.04915430280587892), (55, 0.009869838822805628), (56, 0.030459629226492473), (57, 0.03800649560589066), (58, 0.004777679598327822), (59, 0.025570239397285525), (60, 0.014759534464338716), (61, 0.026872004973910634), (62, 0.009662653090004324), (63, 0.004995321521566741), (64, 0.1279531407774603), (65, 0.004321038873863748), (66, 0.005080319519234068), (67, 0.023523328468978782), (68, 1.0), (69, 0.009053037904844068), (70, 0.026793563364720267), (71, 0.012540792975214777), (72, 0.06198445574588714), (73, 0.0), (74, 0.021659339261115615), (75, 0.009275605237885306), (76, 0.046334772052251394), (77, 0.0), (78, 0.07903502272220404), (79, 0.38176435314396423), (80, 0.005887003055191161), (81, 0.018745404376594728), (82, 0.022831178598283066), (83, 0.028126250642432155), (84, 0.007850971371062714), (85, 0.18291374120479942), (86, 0.004540054396301521), (87, 0.02227499528187072), (88, 0.00915830041311148), (89, 0.004553204591834117), (90, 0.019252909487516394), (91, 0.07189025672284229), (92, 0.011110206144647042), (93, 0.02108222331837086), (94, 0.11555561329314111), (95, 0.05838226065326624), (96, 0.026180599950148042), (97, 0.02184974477894793), (98, 0.047676242622446005), (99, 0.004043084250352653), (100, 0.0), (101, 0.11986096104259668), (102, 0.02882107559682038), (103, 0.03371465000337225), (104, 0.009711253314879638), (105, 0.0), (106, 0.005594107357704979), (107, 0.025351180123513804), (108, 0.027082050794452184), (109, 0.0038588526953592063), (110, 0.040169052332117886), (111, 0.028994196633096575), (112, 0.00953411708775373), (113, 0.005487246474114732), (114, 0.004832868180468568), (115, 0.003993338434776037), (116, 0.019436383058542426), (117, 0.00483743751434566), (118, 0.0), (119, 0.004466702230802275), (120, 0.0), (121, 0.009133084939455385), (122, 0.08897337355730552), (123, 0.025479619684807234), (124, 0.004828784895370942), (125, 0.025203075945645175), (126, 0.11273358032521127), (127, 0.028406524748306412), (128, 0.0311467068100475), (129, 0.06618480089559581), (130, 0.0047079998470832655), (131, 0.11962843246468666), (132, 0.00506748476628008), (133, 0.0), (134, 0.009012510984072861), (135, 0.0), (136, 0.04105261866418964), (137, 0.0), (138, 0.11850141539279871), (139, 0.008814528991478714), (140, 0.004302132237213234), (141, 0.005108810793468703), (142, 0.005771952721037306), (143, 0.005547022330367669), (144, 0.005318713642256856), (145, 0.004447106929384839), (146, 0.033775042510549295), (147, 0.008737661844739031), (148, 0.004157284782621322), (149, 0.026371972653315832), (150, 0.02628762031245061), (151, 0.023274666174325328), (152, 0.009147104147466216), (153, 0.00893754635002947), (154, 0.0), (155, 0.0), (156, 0.0034443204633936423), (157, 0.010044861602595295), (158, 0.02908432878928183), (159, 0.0038909517414346165), (160, 0.009721172235862788), (161, 0.0), (162, 0.005176373944124583), (163, 0.04215073415767105), (164, 0.014195773232894683), (165, 0.02384063611602536), (166, 0.05967200974259084), (167, 0.015225902838375613), (168, 0.026462493039818062), (169, 0.11613388492318913), (170, 0.019492374064907992), (171, 0.004979745152796573), (172, 0.018985610803081445), (173, 0.0), (174, 0.12192404984147595), (175, 0.00505737385845904), (176, 0.004755629723310604), (177, 0.0), (178, 0.038561268301657035), (179, 0.005509585522285459), (180, 0.004507402534807494), (181, 0.005561966259119432), (182, 0.1671797373073459), (183, 0.028250871668044096), (184, 0.019907712991626483), (185, 0.06819834437900169), (186, 0.00834799517501501), (187, 0.014193157165222937), (188, 0.004398791751128634), (189, 0.005869662717753854), (190, 0.01008188942545367), (191, 0.00520983095217926), (192, 0.0), (193, 0.028235205190173418), (194, 0.0), (195, 0.005075811614015566), (196, 0.02293629742473741), (197, 0.005471258904551565), (198, 0.08622017908860098), (199, 0.04597228030299007), (200, 0.023664890810114633), (201, 0.030733128336057184), (202, 0.005194661485632398), (203, 0.12499664857485335), (204, 0.004240527136667758), (205, 0.0861733510006703), (206, 0.009108304801471314), (207, 0.04253354464859062), (208, 0.009314651240440007), (209, 0.004263560636149481), (210, 0.004115464556247762), (211, 0.028532599952302864), (212, 0.02575737211283426), (213, 0.010545876329417475), (214, 0.0), (215, 0.010083974601630172), (216, 0.008884493203201393), (217, 0.003971724644091392), (218, 0.004891860737069511), (219, 0.02650546159906781), (220, 0.020526046163341992), (221, 0.005657999991874386), (222, 0.02235595706198859), (223, 0.019848784460549107), (224, 0.020655973510895716), (225, 0.023762256048861584), (226, 0.0), (227, 0.00416366891760932), (228, 0.025545390638363016), (229, 0.02720784651864651), (230, 0.021740717192925717), (231, 0.0), (232, 0.07529421207872788), (233, 0.022133277251392754), (234, 0.005306966374425372), (235, 0.00491771232209362), (236, 0.004184746175035256), (237, 0.008982375472151891), (238, 0.058359124026990866), (239, 0.01593608250824695), (240, 0.009495192604799915), (241, 0.033107044914810715), (242, 0.08614859246211388), (243, 0.009221110489614603), (244, 0.0035661757724433957), (245, 0.00811071534832211), (246, 0.003937624375339052), (247, 0.0), (248, 0.004492809283826858), (249, 0.0371985198035076), (250, 0.0), (251, 0.0), (252, 0.004230164373142409), (253, 0.003540269471303485), (254, 0.028497542761310196), (255, 0.0), (256, 0.036616892485052746), (257, 0.021603808325976227), (258, 0.0), (259, 0.00851118976909903), (260, 0.026734081050497696), (261, 0.004795590250616329), (262, 0.04934278327121163), (263, 0.022794732788754823), (264, 0.021602496091428895), (265, 0.0), (266, 0.02194053993548968), (267, 0.007933260243814085), (268, 0.0), (269, 0.0), (270, 0.054677531036608315), (271, 0.030009497975184613), (272, 0.0), (273, 0.0040511365755609915), (274, 0.01023990869023304), (275, 0.020360759510844425), (276, 0.0054731753017483575), (277, 0.009425939150625194), (278, 0.060965902297601994), (279, 0.03761827343305067), (280, 0.0), (281, 0.0), (282, 0.003683636370752254), (283, 0.0), (284, 0.013813228863093588), (285, 0.003864665216616347), (286, 0.018100412372572927), (287, 0.0), (288, 0.0), (289, 0.005110345688991976), (290, 0.009872550918174997), (291, 0.057097711448199154), (292, 0.01956197187979529), (293, 0.0), (294, 0.005919813353703157), (295, 0.0040111354492652525), (296, 0.004298190502523046), (297, 0.004382535119661828), (298, 0.0), (299, 0.004346909213226794), (300, 0.022278771967973773), (301, 0.018307172779914567), (302, 0.0052896684565257885), (303, 0.004260390184644693), (304, 0.009021314368121007), (305, 0.022877651941744244), (306, 0.02321846798523092), (307, 0.09754215829948217), (308, 0.0036632892783436235), (309, 0.03804364284220796), (310, 0.03730681009284284), (311, 0.02650501928101212), (312, 0.008426479256952345), (313, 0.022240333995635436), (314, 0.0), (315, 0.008368305216267146), (316, 0.04199609533213502), (317, 0.0), (318, 0.08182262112946156), (319, 0.023257977006107215), (320, 0.004318560401025923), (321, 0.0), (322, 0.028242075046444996), (323, 0.0), (324, 0.04383073987753197), (325, 0.008014854180930777), (326, 0.0), (327, 0.0), (328, 0.03765237158416765), (329, 0.04820316316044083), (330, 0.05031089523418289), (331, 0.052919448278059056), (332, 0.061972161101044074), (333, 0.015453317365453882), (334, 0.025248891422285456), (335, 0.021642278392716513), (336, 0.004684744372292652), (337, 0.002869225587107744), (338, 0.0), (339, 0.010234814158532776), (340, 0.011663866411040266), (341, 0.005142893926518712), (342, 0.024631078572461988), (343, 0.0), (344, 0.003472949601639272), (345, 0.03028565469880056), (346, 0.012134956196763812), (347, 0.010133946869631878), (348, 0.005189366498123481), (349, 0.005024690644924717), (350, 0.01621981936726096), (351, 0.0), (352, 0.004964794489987785), (353, 0.11217791092424911), (354, 0.0), (355, 0.004334670460489355), (356, 0.08478855969312393), (357, 0.0), (358, 0.021331895786146724), (359, 0.005158555850561164), (360, 0.017833507441766955), (361, 0.08264185478105375), (362, 0.023687360891848648), (363, 0.015741797067488635), (364, 0.0), (365, 0.028493800776202012), (366, 0.026407535069217225), (367, 0.0), (368, 0.004554723486117161), (369, 0.007925788954436182), (370, 0.03325219885475703), (371, 0.020799879086411156), (372, 0.0169975995046442), (373, 0.01836625437146847), (374, 0.004692182389809866), (375, 0.01563267481714902), (376, 0.02028707210524243), (377, 0.027402363008517953), (378, 0.0), (379, 0.008243670706435682), (380, 0.025262359697515786), (381, 0.005191558082739666), (382, 0.06551039702911624), (383, 0.008839770358236035), (384, 0.01877579291800781), (385, 0.0), (386, 0.023910403375424168), (387, 0.004149062957138539), (388, 0.0), (389, 0.017972933562273995), (390, 0.0), (391, 0.0), (392, 0.00395940880751088), (393, 0.02789633959598766), (394, 0.0042836666141128), (395, 0.0), (396, 0.07728478436986358), (397, 0.0), (398, 0.0), (399, 0.004651186535325608), (400, 0.02333972932627945), (401, 0.0789294748141071), (402, 0.03212183144547508), (403, 0.008681770285507612), (404, 0.0), (405, 0.0032675498232834312), (406, 0.0), (407, 0.0), (408, 0.0042380201935009075), (409, 0.0), (410, 0.021351944113142007), (411, 0.007226603273426356), (412, 0.04677939555389314), (413, 0.0177759976386924), (414, 0.02772409562626119), (415, 0.022573464808828353), (416, 0.0), (417, 0.0), (418, 0.0), (419, 0.02428333920415895), (420, 0.04976248299161694), (421, 0.07201537932392527), (422, 0.016679979129929502), (423, 0.0), (424, 0.009445849856200339), (425, 0.03587482752527415), (426, 0.021277945290807215), (427, 0.0), (428, 0.004538241625194762), (429, 0.0), (430, 0.0), (431, 0.0), (432, 0.017807664132903946), (433, 0.004616221678965756), (434, 0.0), (435, 0.0), (436, 0.06847063891218508), (437, 0.004720444922507297), (438, 0.0), (439, 0.0), (440, 0.03346930538089163), (441, 0.043801023811453774), (442, 0.018499313526336613), (443, 0.016759456282164627), (444, 0.0), (445, 0.0), (446, 0.040240324532099955), (447, 0.004676939077845439), (448, 0.0), (449, 0.019635756753161104), (450, 0.01651214528407394), (451, 0.04022723821598794), (452, 0.0), (453, 0.004378187316875948), (454, 0.015162948847007196), (455, 0.004129968464452265), (456, 0.025020456106836515), (457, 0.053375232591929216), (458, 0.005373018985891167), (459, 0.03296289790584877), (460, 0.06601657411565948), (461, 0.02408331027751113), (462, 0.022505638991256696), (463, 0.0), (464, 0.0475069927373695), (465, 0.0), (466, 0.03454164440703886), (467, 0.010633114057241884), (468, 0.004101013049737356), (469, 0.008639432600709616), (470, 0.021600254047212563), (471, 0.019575727397216813), (472, 0.009068109589218883), (473, 0.016788823422898128), (474, 0.0), (475, 0.023604350060189728), (476, 0.022190249526905206), (477, 0.0), (478, 0.009352404835004283), (479, 0.011512492683693669), (480, 0.022037144649514128), (481, 0.0), (482, 0.0), (483, 0.040613780411377184), (484, 0.004622483113886571), (485, 0.0047150291595986805), (486, 0.009304039215016153), (487, 0.025735401881190043), (488, 0.00932992460909658), (489, 0.0), (490, 0.02607636269714454), (491, 0.008412096785165066), (492, 0.0), (493, 0.028934610424263395), (494, 0.004712339669886887), (495, 0.026523828004399272), (496, 0.0), (497, 0.0), (498, 0.004834088630645183), (499, 0.0), (500, 0.003970927281697362), (501, 0.08066538005573597), (502, 0.01322668631067919), (503, 0.02571999023385137), (504, 0.01902391648468938), (505, 0.021084095173605325), (506, 0.0), (507, 0.05314854564618347), (508, 0.05693516700363791), (509, 0.0), (510, 0.020922876696430993), (511, 0.14496408272544475), (512, 0.004515864319150669), (513, 0.00768629582270294), (514, 0.003954478531727358), (515, 0.0), (516, 0.0), (517, 0.0), (518, 0.010806489772604684), (519, 0.0), (520, 0.0), (521, 0.0), (522, 0.0), (523, 0.009792101382011375), (524, 0.0), (525, 0.01604967601048227), (526, 0.0), (527, 0.0), (528, 0.0031301568433644692), (529, 0.0037531078568498206), (530, 0.01972147429722457), (531, 0.008762223340620193), (532, 0.0), (533, 0.0), (534, 0.004780831541666146), (535, 0.008595149020222447), (536, 0.03880116122854464), (537, 0.004116157852747491), (538, 0.0), (539, 0.03590592666095986), (540, 0.011824770736064928), (541, 0.017433355710558103), (542, 0.019316309175126653), (543, 0.008034468097128962), (544, 0.009451869475212456), (545, 0.037204438643618075), (546, 0.04418902070832833), (547, 0.004254059445826673), (548, 0.0), (549, 0.015340689145840178), (550, 0.0), (551, 0.005026998774127895), (552, 0.0), (553, 0.004258068618274687), (554, 0.0), (555, 0.0), (556, 0.003542356863507008), (557, 0.0), (558, 0.0), (559, 0.0), (560, 0.017633008965976398), (561, 0.00365899453180548), (562, 0.027967398258859712), (563, 0.0), (564, 0.03479862485685063), (565, 0.005649232260085173), (566, 0.004709383542801717), (567, 0.0), (568, 0.009273025525108263), (569, 0.005533199532696571), (570, 0.03296044517994629), (571, 0.003864384441264095), (572, 0.005146416586545357), (573, 0.004511186443653904), (574, 0.05553017409568422), (575, 0.017044452717631428), (576, 0.0), (577, 0.024681831944931093), (578, 0.018143153580228406), (579, 0.003126720610969526), (580, 0.004005198183601382), (581, 0.02432185858045115), (582, 0.020054084117582922), (583, 0.010046876372012853), (584, 0.0), (585, 0.0), (586, 0.003588254862512802), (587, 0.02685988236584381), (588, 0.0), (589, 0.004178093653310668), (590, 0.004148602086013617), (591, 0.020333448779558685), (592, 0.0046462456388683), (593, 0.027813821823967206), (594, 0.00950376502482059), (595, 0.008664476247549815), (596, 0.009743643677480669), (597, 0.0041886277751253505), (598, 0.0), (599, 0.059944307005881575), (600, 0.028193599998383296), (601, 0.023403496418820648), (602, 0.010686191575054188), (603, 0.0), (604, 0.00928368705500653), (605, 0.0), (606, 0.0), (607, 0.11092522296521597), (608, 0.0), (609, 0.02211257486871212), (610, 0.008757106882507613), (611, 0.003818922101381837), (612, 0.020766163893175694), (613, 0.0173030433328955), (614, 0.0), (615, 0.01618841695232727), (616, 0.0), (617, 0.004682189194572275), (618, 0.09906168988546309), (619, 0.0), (620, 0.0), (621, 0.00382386765882174), (622, 0.004280141864634329), (623, 0.0), (624, 0.0037472064028277133), (625, 0.023025029399915766), (626, 0.018972072985892173), (627, 0.006985079706297235), (628, 0.0), (629, 0.0034365685645069257), (630, 0.0), (631, 0.05656897459522141), (632, 0.017630663089260375), (633, 0.0), (634, 0.021012580344789467), (635, 0.031170811926518827), (636, 0.0), (637, 0.0), (638, 0.0), (639, 0.017871008611661226), (640, 0.009083984457409187), (641, 0.07026984716107629), (642, 0.0), (643, 0.009338321759201166), (644, 0.015001490260089291), (645, 0.009675887336834076), (646, 0.03480563076035568), (647, 0.0), (648, 0.0), (649, 0.0), (650, 0.0), (651, 0.0), (652, 0.012991513718920718), (653, 0.004129004340307281), (654, 0.057821721304836315), (655, 0.00446096427370856), (656, 0.0), (657, 0.02224477757033875), (658, 0.02039183427526576), (659, 0.004243930412306038), (660, 0.011968446612298553), (661, 0.1063943390565304), (662, 0.0), (663, 0.0), (664, 0.04852839017998391), (665, 0.024016969640348135), (666, 0.0), (667, 0.0), (668, 0.028065015141893867), (669, 0.014937624745031538), (670, 0.018237928414691292), (671, 0.004883081906918092), (672, 0.0), (673, 0.012921510505607445), (674, 0.06360092115612856), (675, 0.053327650365190285), (676, 0.0087668742762779), (677, 0.003960660233304289), (678, 0.011005299980976789), (679, 0.0), (680, 0.05392748196447052), (681, 0.0), (682, 0.0), (683, 0.008320166722133138), (684, 0.0), (685, 0.027163385951549317), (686, 0.0), (687, 0.009170139914143047), (688, 0.013634572755493402), (689, 0.0), (690, 0.0), (691, 0.008260173086728799), (692, 0.0), (693, 0.0), (694, 0.003973723006093534), (695, 0.008442737175173954), (696, 0.0), (697, 0.0), (698, 0.005715965955290066), (699, 0.02990396243527782), (700, 0.02881085549085385), (701, 0.027630865168165056), (702, 0.004272206258602237), (703, 0.012816289018461944), (704, 0.005362792160321749), (705, 0.060224050089746434), (706, 0.020631908818011004), (707, 0.005340846725285623), (708, 0.0038062485294020195), (709, 0.0), (710, 0.0), (711, 0.01997715722448596), (712, 0.0), (713, 0.028504166794393795), (714, 0.0), (715, 0.010932757297870101), (716, 0.017412517620518774), (717, 0.0), (718, 0.016612814626867273), (719, 0.0), (720, 0.10120936326284599), (721, 0.00474611039478371), (722, 0.0), (723, 0.014240191834486614), (724, 0.004064475722171744), (725, 0.07006718619328209), (726, 0.04672067477418543), (727, 0.0), (728, 0.04478240230587275), (729, 0.013996775943789775), (730, 0.004421094241126453), (731, 0.010073764847503996), (732, 0.02997874348761248), (733, 0.03472418091035624), (734, 0.01809659341661371), (735, 0.026668719151223617), (736, 0.003661172286180311), (737, 0.0041696173435693), (738, 0.015668003526687308), (739, 0.003897311728968205), (740, 0.02233768169301601), (741, 0.00388304111039606), (742, 0.0), (743, 0.0), (744, 0.009198053872119716), (745, 0.00382610463489884), (746, 0.008290637337094148), (747, 0.004205524858724248), (748, 0.005542361262852672), (749, 0.0), (750, 0.00535827778666093), (751, 0.0), (752, 0.04060203447040064), (753, 0.004111574099691906), (754, 0.0192615977583981), (755, 0.027132253442682074), (756, 0.017709736247420137), (757, 0.014532946774741132), (758, 0.0), (759, 0.0), (760, 0.015257611510121734), (761, 0.03829855298521727), (762, 0.004263166833550761), (763, 0.07425432233883018), (764, 0.014903259518551119), (765, 0.0), (766, 0.0), (767, 0.009640258227591791), (768, 0.02131947656956723), (769, 0.007084989636846152), (770, 0.01612664686461459), (771, 0.017855732418249247), (772, 0.0), (773, 0.010710406945512516), (774, 0.021497759452483323), (775, 0.02820218056904559), (776, 0.0), (777, 0.02258576223792639), (778, 0.022471259538751506), (779, 0.0), (780, 0.022231409312204926), (781, 0.009770197164602526), (782, 0.04460398164655932), (783, 0.12554790089714948), (784, 0.00997539895895645), (785, 0.005446840028186523), (786, 0.01050332541043002), (787, 0.0035250700981209085), (788, 0.11192661362471894), (789, 0.06028896794514487), (790, 0.0040610948150311054), (791, 0.005908349259123222), (792, 0.0), (793, 0.017578945533398872), (794, 0.007656033303200022), (795, 0.0), (796, 0.0), (797, 0.02930847443814735), (798, 0.0), (799, 0.023889994296310266), (800, 0.09431565919636355), (801, 0.0), (802, 0.0), (803, 0.0), (804, 0.004270777958830116), (805, 0.05383229780815129), (806, 0.0), (807, 0.004378375584886823), (808, 0.009301066064114318), (809, 0.011713189755307019), (810, 0.0), (811, 0.013693445005025489), (812, 0.005073297528515239), (813, 0.026231943137060013), (814, 0.015646411927148992), (815, 0.0), (816, 0.0055533916837261), (817, 0.0), (818, 0.004315176889516069), (819, 0.0), (820, 0.0), (821, 0.00400850985929535), (822, 0.0), (823, 0.004162075643524484), (824, 0.0), (825, 0.012805316040746747), (826, 0.0), (827, 0.0), (828, 0.004277788308597205), (829, 0.0), (830, 0.0036130371328726724), (831, 0.008043558608536621), (832, 0.010044078165852333), (833, 0.04840068255408087), (834, 0.009860208055949459), (835, 0.0), (836, 0.008715669173340395), (837, 0.0), (838, 0.022408024572941426), (839, 0.0), (840, 0.06633614146151501), (841, 0.005674861479930954), (842, 0.006037891008281654), (843, 0.0), (844, 0.004114118074628048), (845, 0.053757142452609506), (846, 0.0), (847, 0.0), (848, 0.005708905637768963), (849, 0.0), (850, 0.02110389605400306), (851, 0.011408072260070842), (852, 0.0), (853, 0.0), (854, 0.019584605841517447), (855, 0.037120834239037295), (856, 0.016879466816288675), (857, 0.0), (858, 0.005578442194438497), (859, 0.008212532871410883), (860, 0.0), (861, 0.0), (862, 0.01667449614150548), (863, 0.004253348172765983), (864, 0.030776355969809446), (865, 0.0), (866, 0.004705909378664728), (867, 0.0), (868, 0.0), (869, 0.0), (870, 0.08083029523964126), (871, 0.0), (872, 0.0), (873, 0.050205399907430275), (874, 0.004838329013567164), (875, 0.0), (876, 0.0), (877, 0.0), (878, 0.03132725547423495), (879, 0.0), (880, 0.016804155197983752), (881, 0.0), (882, 0.08863260132853618), (883, 0.0), (884, 0.0), (885, 0.06676349587599106), (886, 0.0), (887, 0.0), (888, 0.009162135757654226), (889, 0.03787022254612168), (890, 0.0), (891, 0.0), (892, 0.013847337445783812), (893, 0.003974794926147034), (894, 0.0036596638920730396), (895, 0.015619728789649592), (896, 0.0), (897, 0.0), (898, 0.01998358003219456), (899, 0.0055083584595471925), (900, 0.018785037029319523), (901, 0.004489465679938124), (902, 0.022183238434030878), (903, 0.0), (904, 0.02214555994135015), (905, 0.0), (906, 0.0), (907, 0.0), (908, 0.01891026804012995), (909, 0.0), (910, 0.0), (911, 0.050760854453009964), (912, 0.0), (913, 0.0), (914, 0.003630361339277166), (915, 0.0), (916, 0.0), (917, 0.0), (918, 0.0), (919, 0.004353471549855522), (920, 0.024612842553293757), (921, 0.0), (922, 0.026191499347623413), (923, 0.0), (924, 0.0), (925, 0.0), (926, 0.0), (927, 0.0), (928, 0.0), (929, 0.0398157342171036), (930, 0.0037749858271576716), (931, 0.023805852866088877), (932, 0.0030504719512565066), (933, 0.009280625622615411), (934, 0.004510124743748742), (935, 0.005251325353936908), (936, 0.0), (937, 0.0038736648786156735), (938, 0.0), (939, 0.021241921553396267), (940, 0.08850434634743574), (941, 0.003621732006102336), (942, 0.005448122575901021), (943, 0.0), (944, 0.0), (945, 0.08393292025911467), (946, 0.0), (947, 0.0), (948, 0.026273350170706415), (949, 0.022527184005342687), (950, 0.008410692743091024), (951, 0.004036515380503431), (952, 0.0044970414329191175), (953, 0.04700271704889104), (954, 0.09790841780553458), (955, 0.0038410608279972), (956, 0.04914208032307116), (957, 0.0), (958, 0.0), (959, 0.0036126968818064294), (960, 0.07418318713040883), (961, 0.00459891840103227), (962, 0.0), (963, 0.003683224262108897), (964, 0.0), (965, 0.029918255276814257), (966, 0.0), (967, 0.02909750910410901), (968, 0.0), (969, 0.008762208703222304), (970, 0.0), (971, 0.0), (972, 0.027651175659636335), (973, 0.003691628711127917), (974, 0.02489108071553043), (975, 0.0), (976, 0.027715747487406184), (977, 0.042534690766658764), (978, 0.0050818010678185125), (979, 0.004169212011814784), (980, 0.0), (981, 0.004109103804214688), (982, 0.004218120337354953), (983, 0.0), (984, 0.010065682168877219), (985, 0.010411248813173346), (986, 0.0), (987, 0.0), (988, 0.016905690819676595), (989, 0.008470187482034002), (990, 0.023551099583146336), (991, 0.0), (992, 0.004055342522179), (993, 0.004267179301415414), (994, 0.01732139805050446), (995, 0.0), (996, 0.021966065827583946), (997, 0.0), (998, 0.0), (999, 0.013268493174510279), (1000, 0.003986437500577708), (1001, 0.023937505234105105), (1002, 0.023158789216983697), (1003, 0.003483975294262009), (1004, 0.0), (1005, 0.03532814396484072), (1006, 0.008422536784384196), (1007, 0.0), (1008, 0.01565187660514964), (1009, 0.0), (1010, 0.0), (1011, 0.0), (1012, 0.009937855409542673), (1013, 0.0), (1014, 0.0262128295741691), (1015, 0.08553873328294313), (1016, 0.0486119278510101), (1017, 0.0), (1018, 0.002863809520898544), (1019, 0.0), (1020, 0.004602079147901153), (1021, 0.0), (1022, 0.0), (1023, 0.0), (1024, 0.040958173729522054), (1025, 0.0), (1026, 0.0), (1027, 0.009092092700448915), (1028, 0.020157448306823235), (1029, 0.07660796956072954), (1030, 0.0), (1031, 0.0), (1032, 0.0), (1033, 0.0), (1034, 0.025540585805265442), (1035, 0.004273465543796394), (1036, 0.0), (1037, 0.0), (1038, 0.0), (1039, 0.03670280214864212), (1040, 0.0), (1041, 0.05931138697882373), (1042, 0.0), (1043, 0.004072781955676487), (1044, 0.023889082289753213), (1045, 0.0), (1046, 0.0), (1047, 0.0), (1048, 0.0), (1049, 0.003858332112619124), (1050, 0.013721537013088696), (1051, 0.0), (1052, 0.037184471885098824), (1053, 0.017792004904050647), (1054, 0.0), (1055, 0.04483931543080448), (1056, 0.0037311785467203334), (1057, 0.013199962347052691), (1058, 0.02439171700964704), (1059, 0.02665727307614109), (1060, 0.0), (1061, 0.0), (1062, 0.00494547227717255), (1063, 0.0), (1064, 0.003329673950271624), (1065, 0.0), (1066, 0.0), (1067, 0.011540353343982032), (1068, 0.023097122181889553), (1069, 0.0), (1070, 0.021869016740698494), (1071, 0.0), (1072, 0.004820474889103025), (1073, 0.009648604249168014), (1074, 0.0053511086725951396), (1075, 0.0), (1076, 0.009501661051934021), (1077, 0.007412586291952279), (1078, 0.005355512927862146), (1079, 0.023994495805766312), (1080, 0.005013612649658205), (1081, 0.0), (1082, 0.007796966502533784), (1083, 0.02716025073537762), (1084, 0.009040644298892654), (1085, 0.014385732618394844), (1086, 0.0425417768233954), (1087, 0.0), (1088, 0.0), (1089, 0.00953032417844016), (1090, 0.013599630130490424), (1091, 0.0), (1092, 0.023418969420088823), (1093, 0.02553834377257908), (1094, 0.0), (1095, 0.003606212206915571), (1096, 0.003922368675070753), (1097, 0.03821952818017447), (1098, 0.0), (1099, 0.005944250861467688), (1100, 0.008912308385775922), (1101, 0.0037973387958311383), (1102, 0.0), (1103, 0.00882889028259609), (1104, 0.003748297500898277), (1105, 0.01305195786144384), (1106, 0.008580390919135521), (1107, 0.0), (1108, 0.0), (1109, 0.003423904967025412), (1110, 0.020136604994138493), (1111, 0.014436366463014279), (1112, 0.0), (1113, 0.0), (1114, 0.004655421136367858), (1115, 0.0), (1116, 0.0), (1117, 0.0), (1118, 0.004339251652395509), (1119, 0.03225057557957973), (1120, 0.0), (1121, 0.0), (1122, 0.0), (1123, 0.0), (1124, 0.008671122330260137), (1125, 0.0), (1126, 0.0), (1127, 0.0), (1128, 0.06859823528902795), (1129, 0.0), (1130, 0.0), (1131, 0.022318747196454505), (1132, 0.0), (1133, 0.018577886052472195), (1134, 0.004874053952118441), (1135, 0.08789479187443333), (1136, 0.00804663556747291), (1137, 0.0039031026290119917), (1138, 0.0035099011219949564), (1139, 0.009238151199377497), (1140, 0.003582753884905877), (1141, 0.0), (1142, 0.004319401237227697), (1143, 0.009772984922193865), (1144, 0.004358141907501944), (1145, 0.0), (1146, 0.003810179841442087), (1147, 0.0), (1148, 0.0), (1149, 0.0), (1150, 0.0), (1151, 0.0), (1152, 0.05369151103433205), (1153, 0.015818141731079025), (1154, 0.0), (1155, 0.0371699167635251), (1156, 0.0), (1157, 0.01736791776102844), (1158, 0.004163574029139595), (1159, 0.02110208807104653), (1160, 0.0), (1161, 0.0), (1162, 0.0), (1163, 0.0), (1164, 0.0), (1165, 0.06202687524277175), (1166, 0.0), (1167, 0.0), (1168, 0.0), (1169, 0.0), (1170, 0.08161066983646632), (1171, 0.02812424195310099), (1172, 0.009636402852145872), (1173, 0.015139258136044267), (1174, 0.0035558117806850473), (1175, 0.008645483734996587), (1176, 0.0), (1177, 0.033585677358327314), (1178, 0.004342985973242604), (1179, 0.0), (1180, 0.07320842487609433), (1181, 0.0), (1182, 0.0), (1183, 0.00513756983141468), (1184, 0.022738294879343184), (1185, 0.0), (1186, 0.0), (1187, 0.0), (1188, 0.003936493696389344), (1189, 0.0), (1190, 0.0), (1191, 0.023566141501119485), (1192, 0.08363793746795022), (1193, 0.012550629357401482), (1194, 0.0), (1195, 0.003969417463278606), (1196, 0.0), (1197, 0.0), (1198, 0.02140224863338274), (1199, 0.008290935240818273), (1200, 0.053828532084166034), (1201, 0.024213509151082054), (1202, 0.00915952547266489), (1203, 0.0), (1204, 0.0), (1205, 0.0), (1206, 0.0), (1207, 0.0), (1208, 0.0), (1209, 0.03372303206526843), (1210, 0.10158867437287417), (1211, 0.0), (1212, 0.004251330694388882), (1213, 0.05271996772939691), (1214, 0.004423130221082695), (1215, 0.0), (1216, 0.0), (1217, 0.01957746096278237), (1218, 0.0), (1219, 0.0), (1220, 0.0), (1221, 0.0), (1222, 0.017568235021421207), (1223, 0.0), (1224, 0.0), (1225, 0.0), (1226, 0.0), (1227, 0.0), (1228, 0.0), (1229, 0.0), (1230, 0.057407845760250376), (1231, 0.0), (1232, 0.02563407835285468), (1233, 0.05626013233124534), (1234, 0.009259891146028688), (1235, 0.0), (1236, 0.0), (1237, 0.030792377817514333), (1238, 0.016929741022698508), (1239, 0.009129589753329148), (1240, 0.0), (1241, 0.0), (1242, 0.0), (1243, 0.012283001767322643), (1244, 0.020687026792715273), (1245, 0.004330001380762265), (1246, 0.0), (1247, 0.03903316888331711), (1248, 0.007428662197946703), (1249, 0.04664645201492361), (1250, 0.03618301210129917), (1251, 0.011122068751458953), (1252, 0.0), (1253, 0.005497943986372827), (1254, 0.0042133305094846476), (1255, 0.0), (1256, 0.01009775523449475), (1257, 0.005543222134773729), (1258, 0.0), (1259, 0.02569103191863692), (1260, 0.0), (1261, 0.0), (1262, 0.0), (1263, 0.004908454486254596), (1264, 0.0), (1265, 0.0), (1266, 0.009170757038180932), (1267, 0.005828367034515388), (1268, 0.0), (1269, 0.023864797991657638), (1270, 0.01907702821589948), (1271, 0.019792987864600486), (1272, 0.041100345004150565), (1273, 0.010087071373789534), (1274, 0.08356579803640167), (1275, 0.016679079948375402), (1276, 0.0), (1277, 0.05842082697218742), (1278, 0.004742991868136101), (1279, 0.009111325384977921), (1280, 0.0), (1281, 0.003606692729071404), (1282, 0.08589537129117691), (1283, 0.017503957574409076), (1284, 0.004265448843949488), (1285, 0.029363853625438623), (1286, 0.017105014314756608), (1287, 0.005187313241734125), (1288, 0.04302764818099195), (1289, 0.004537808686766406), (1290, 0.00857182486992295), (1291, 0.0499018675281076), (1292, 0.0), (1293, 0.0), (1294, 0.026599267517287317), (1295, 0.0), (1296, 0.021269313567247223), (1297, 0.03656368276704771), (1298, 0.007876213663394374), (1299, 0.024023494918705448), (1300, 0.013699731449313987), (1301, 0.0), (1302, 0.024368091641318687), (1303, 0.025769961244422587), (1304, 0.0028660104503908535), (1305, 0.013944814918114667), (1306, 0.006308444610650243), (1307, 0.0), (1308, 0.0), (1309, 0.0), (1310, 0.0036147440606860703), (1311, 0.06906276739024936), (1312, 0.0), (1313, 0.0), (1314, 0.0), (1315, 0.0), (1316, 0.0), (1317, 0.07220209784591107), (1318, 0.01636100698522789), (1319, 0.021118573772098886), (1320, 0.00963623270193937), (1321, 0.004131657839649809), (1322, 0.010600024193681539), (1323, 0.0), (1324, 0.036120285430011445), (1325, 0.0), (1326, 0.021174593793710488), (1327, 0.0), (1328, 0.021398997112783293), (1329, 0.0), (1330, 0.0), (1331, 0.010744653957957073), (1332, 0.028409341910514255), (1333, 0.0), (1334, 0.003888738394378476), (1335, 0.025133698419802727), (1336, 0.022584356477118137), (1337, 0.018784361448972157), (1338, 0.012146853905153288), (1339, 0.004045112275134465), (1340, 0.0), (1341, 0.014026060383326109), (1342, 0.004488967413554201), (1343, 0.008375811900623106), (1344, 0.02131110821836104), (1345, 0.02298305289489625), (1346, 0.0), (1347, 0.003918368550125446), (1348, 0.0), (1349, 0.0), (1350, 0.0), (1351, 0.0), (1352, 0.016616372279125033), (1353, 0.0), (1354, 0.028025359459202582), (1355, 0.0), (1356, 0.0), (1357, 0.004870160128268404), (1358, 0.04198532665330866), (1359, 0.0037850908034285057), (1360, 0.0), (1361, 0.008656734301607412), (1362, 0.0), (1363, 0.021569293012021908), (1364, 0.0), (1365, 0.06845365883842601), (1366, 0.0), (1367, 0.03942831311111121), (1368, 0.08682628391943548), (1369, 0.012772098536397377), (1370, 0.026727357139191645), (1371, 0.0), (1372, 0.0), (1373, 0.0), (1374, 0.0), (1375, 0.005098427040833769), (1376, 0.0), (1377, 0.022324229042076676), (1378, 0.0), (1379, 0.015948077428566), (1380, 0.009424765395758587), (1381, 0.0), (1382, 0.005950373722738948), (1383, 0.024487599885856824), (1384, 0.0), (1385, 0.0), (1386, 0.0), (1387, 0.02575272676235462), (1388, 0.0), (1389, 0.0), (1390, 0.02861213263832897), (1391, 0.0), (1392, 0.04424637326155276), (1393, 0.0), (1394, 0.0), (1395, 0.02152874275972129), (1396, 0.043329252869485954), (1397, 0.0), (1398, 0.04691049200074798), (1399, 0.022133793626937414), (1400, 0.0), (1401, 0.0), (1402, 0.005315367422294322), (1403, 0.0), (1404, 0.007367638928249471), (1405, 0.0), (1406, 0.09554522267631861), (1407, 0.0), (1408, 0.0), (1409, 0.0), (1410, 0.0), (1411, 0.0), (1412, 0.01700543282452982), (1413, 0.0), (1414, 0.0), (1415, 0.016042877473964177), (1416, 0.0), (1417, 0.004553291077684345), (1418, 0.0), (1419, 0.017742481366202472), (1420, 0.0), (1421, 0.0), (1422, 0.018011512735569314), (1423, 0.0), (1424, 0.0), (1425, 0.02432423763562387), (1426, 0.005340992344414464), (1427, 0.0), (1428, 0.06805099828370542), (1429, 0.0), (1430, 0.0), (1431, 0.003809481128883178), (1432, 0.00411839652829297), (1433, 0.00452503787768117), (1434, 0.027956707596244794), (1435, 0.0), (1436, 0.017814046803625493), (1437, 0.0037099782061269155), (1438, 0.008476441910286275), (1439, 0.03616944882911741), (1440, 0.02781996133030791), (1441, 0.0), (1442, 0.0), (1443, 0.003843313262552301), (1444, 0.0), (1445, 0.02884378345350772), (1446, 0.03822335562248471), (1447, 0.008962661208624753), (1448, 0.0044311690205307485), (1449, 0.0), (1450, 0.003830763625504696), (1451, 0.10995863187124394), (1452, 0.018748711793717367), (1453, 0.003692371578547436), (1454, 0.0), (1455, 0.0), (1456, 0.03433926591262607), (1457, 0.004045911156598242), (1458, 0.0), (1459, 0.07266654548491343), (1460, 0.005220405061519287), (1461, 0.0), (1462, 0.0), (1463, 0.0036279757575908922), (1464, 0.0), (1465, 0.020459643984823014), (1466, 0.0), (1467, 0.01613756400871708), (1468, 0.021898470838970438), (1469, 0.0341033449055235), (1470, 0.004165496739968237), (1471, 0.0), (1472, 0.02000076382650134), (1473, 0.01641516840046616), (1474, 0.011343253507634992), (1475, 0.0), (1476, 0.0), (1477, 0.0), (1478, 0.0), (1479, 0.004662657199205958), (1480, 0.043645550536392984), (1481, 0.009827568129510049), (1482, 0.05355346978786191), (1483, 0.0), (1484, 0.052034739711393246), (1485, 0.0), (1486, 0.004015869476283079), (1487, 0.0), (1488, 0.020354048723844345), (1489, 0.0), (1490, 0.02706551138318886), (1491, 0.020434366429814402), (1492, 0.0), (1493, 0.0), (1494, 0.06062563465871594), (1495, 0.05069760784758791), (1496, 0.02695432179169695), (1497, 0.0), (1498, 0.0), (1499, 0.0), (1500, 0.00403742947555227), (1501, 0.0), (1502, 0.06064625181229178), (1503, 0.005022319593332702), (1504, 0.013870658676049526), (1505, 0.00448332938651652), (1506, 0.01858596720340163), (1507, 0.026027859584703956), (1508, 0.0), (1509, 0.005776499671048415), (1510, 0.004156121277622951), (1511, 0.0), (1512, 0.0), (1513, 0.003673372857185976), (1514, 0.004246123704132134), (1515, 0.004181416830750705), (1516, 0.0), (1517, 0.017134423545738988), (1518, 0.03006423451741097), (1519, 0.0), (1520, 0.0), (1521, 0.0), (1522, 0.0), (1523, 0.0), (1524, 0.006299398390648646), (1525, 0.014433991527800283), (1526, 0.0), (1527, 0.0), (1528, 0.004828630305054917), (1529, 0.014267460248829654), (1530, 0.01643680041737802), (1531, 0.021634990920889795), (1532, 0.0), (1533, 0.0), (1534, 0.022909001652750543), (1535, 0.018574659030032598), (1536, 0.0), (1537, 0.0), (1538, 0.0036494766436997103), (1539, 0.020817289464393946), (1540, 0.0), (1541, 0.0), (1542, 0.03536540604251557), (1543, 0.0), (1544, 0.0), (1545, 0.0), (1546, 0.010199736632197904), (1547, 0.02279691889841321), (1548, 0.0), (1549, 0.0), (1550, 0.004946058110300684), (1551, 0.011602661935287327), (1552, 0.0), (1553, 0.11468981996922853), (1554, 0.0159645102044757), (1555, 0.0), (1556, 0.0), (1557, 0.0), (1558, 0.01069605656357981), (1559, 0.0), (1560, 0.0), (1561, 0.0), (1562, 0.004889010394216381), (1563, 0.0), (1564, 0.004879417706581024), (1565, 0.0), (1566, 0.0), (1567, 0.0), (1568, 0.019527115576745708), (1569, 0.022292558911764945), (1570, 0.0), (1571, 0.0), (1572, 0.0), (1573, 0.08327354127738201), (1574, 0.0), (1575, 0.019989272933924218), (1576, 0.0), (1577, 0.013353178487764567), (1578, 0.0), (1579, 0.0), (1580, 0.0062175234458096106), (1581, 0.0), (1582, 0.0), (1583, 0.025941533723346868), (1584, 0.0), (1585, 0.0), (1586, 0.009493395968962353), (1587, 0.005226604054589585), (1588, 0.020942056185085833), (1589, 0.024338397783136068), (1590, 0.0), (1591, 0.0), (1592, 0.003865118262116958), (1593, 0.0), (1594, 0.0), (1595, 0.021612436031664604), (1596, 0.026194636876958253), (1597, 0.005175943162958888), (1598, 0.0), (1599, 0.0), (1600, 0.01721661809553594), (1601, 0.024890550454728565), (1602, 0.0054572471725607115), (1603, 0.0), (1604, 0.049582866835316514), (1605, 0.0), (1606, 0.017539071872366654), (1607, 0.016367219177688158), (1608, 0.017778413756405372), (1609, 0.0), (1610, 0.009528628423886049), (1611, 0.01624611407993587), (1612, 0.0), (1613, 0.0), (1614, 0.0), (1615, 0.009367860153504874), (1616, 0.0037559515942430385), (1617, 0.026588128944826067), (1618, 0.0), (1619, 0.0), (1620, 0.0), (1621, 0.0), (1622, 0.0), (1623, 0.0), (1624, 0.0), (1625, 0.020079878686384403), (1626, 0.003550897242474324), (1627, 0.0), (1628, 0.00982955216003454), (1629, 0.0), (1630, 0.0), (1631, 0.0), (1632, 0.0), (1633, 0.022369339370151762), (1634, 0.0), (1635, 0.0038943056302288338), (1636, 0.038963409253797036), (1637, 0.015530878619397125), (1638, 0.0), (1639, 0.020295490398981354), (1640, 0.0), (1641, 0.04924315993270373), (1642, 0.022111737437086464), (1643, 0.015197523879379666), (1644, 0.023291439940540403), (1645, 0.008584465119231171), (1646, 0.019054044564023008), (1647, 0.0), (1648, 0.0), (1649, 0.039263999878764416), (1650, 0.04323981017944549), (1651, 0.06941313387504444), (1652, 0.057584697232118474), (1653, 0.0037750782717457174), (1654, 0.0656757635495611), (1655, 0.0), (1656, 0.0), (1657, 0.012741002457065501), (1658, 0.006289144837560506), (1659, 0.0), (1660, 0.0), (1661, 0.0038683688379676836), (1662, 0.0), (1663, 0.010696681212183716), (1664, 0.06544394337888851), (1665, 0.0), (1666, 0.0), (1667, 0.011809800127406515), (1668, 0.0), (1669, 0.00386969742286778), (1670, 0.0645696349614062), (1671, 0.0037775824374585267), (1672, 0.0083358672353181), (1673, 0.0), (1674, 0.0), (1675, 0.004770089992934474), (1676, 0.0), (1677, 0.0), (1678, 0.0), (1679, 0.0), (1680, 0.004322960147857937), (1681, 0.0), (1682, 0.0053953871652817065), (1683, 0.02676280698555692), (1684, 0.01339070701821844), (1685, 0.0), (1686, 0.008347749573255141), (1687, 0.026312947604978498), (1688, 0.0), (1689, 0.0), (1690, 0.0), (1691, 0.0), (1692, 0.0), (1693, 0.0), (1694, 0.0), (1695, 0.005832290900609329), (1696, 0.04186506163461275), (1697, 0.013248926447753315), (1698, 0.0), (1699, 0.004209370413574569), (1700, 0.0), (1701, 0.023891501886949985), (1702, 0.004135037908942326), (1703, 0.05725274863115116), (1704, 0.0), (1705, 0.0), (1706, 0.0), (1707, 0.0036800306503552145), (1708, 0.0), (1709, 0.01843692026019661), (1710, 0.0787195674295429), (1711, 0.0), (1712, 0.03904768762264161), (1713, 0.00901938704620944), (1714, 0.0), (1715, 0.04509619540909637), (1716, 0.0), (1717, 0.0), (1718, 0.0), (1719, 0.0), (1720, 0.05626712453709633), (1721, 0.01236705651756509), (1722, 0.0), (1723, 0.0), (1724, 0.0), (1725, 0.0156402014015481), (1726, 0.004137766407682894)]\n"
          ]
        }
      ]
    },
    {
      "cell_type": "code",
      "source": [
        "len(similarity_score)"
      ],
      "metadata": {
        "colab": {
          "base_uri": "https://localhost:8080/"
        },
        "id": "zjrCuec1IozV",
        "outputId": "8e615c8d-8747-4719-dbf1-0530c352ce7c"
      },
      "execution_count": 26,
      "outputs": [
        {
          "output_type": "execute_result",
          "data": {
            "text/plain": [
              "1727"
            ]
          },
          "metadata": {},
          "execution_count": 26
        }
      ]
    },
    {
      "cell_type": "code",
      "source": [
        "sorted_similar_movies = sorted(similarity_score, key = lambda x:x[1], reverse = True) \n",
        "print(sorted_similar_movies)"
      ],
      "metadata": {
        "colab": {
          "base_uri": "https://localhost:8080/"
        },
        "id": "t-bMPBCJIsBt",
        "outputId": "812aedc5-3e16-4899-b1c5-76fb1f2dd6a3"
      },
      "execution_count": 27,
      "outputs": [
        {
          "output_type": "stream",
          "name": "stdout",
          "text": [
            "[(68, 1.0), (79, 0.38176435314396423), (31, 0.2929713662704675), (7, 0.21650922967093625), (16, 0.20870880803195604), (26, 0.19541480742952172), (85, 0.18291374120479942), (182, 0.1671797373073459), (511, 0.14496408272544475), (64, 0.1279531407774603), (783, 0.12554790089714948), (203, 0.12499664857485335), (46, 0.12357980825071643), (174, 0.12192404984147595), (101, 0.11986096104259668), (131, 0.11962843246468666), (138, 0.11850141539279871), (169, 0.11613388492318913), (94, 0.11555561329314111), (1553, 0.11468981996922853), (126, 0.11273358032521127), (353, 0.11217791092424911), (788, 0.11192661362471894), (607, 0.11092522296521597), (33, 0.11049749733846907), (1451, 0.10995863187124394), (661, 0.1063943390565304), (1210, 0.10158867437287417), (720, 0.10120936326284599), (618, 0.09906168988546309), (954, 0.09790841780553458), (307, 0.09754215829948217), (1406, 0.09554522267631861), (800, 0.09431565919636355), (39, 0.09141964702912908), (38, 0.0913193560202922), (122, 0.08897337355730552), (882, 0.08863260132853618), (940, 0.08850434634743574), (1135, 0.08789479187443333), (1368, 0.08682628391943548), (198, 0.08622017908860098), (205, 0.0861733510006703), (242, 0.08614859246211388), (1282, 0.08589537129117691), (1015, 0.08553873328294313), (356, 0.08478855969312393), (945, 0.08393292025911467), (1192, 0.08363793746795022), (1274, 0.08356579803640167), (1573, 0.08327354127738201), (361, 0.08264185478105375), (14, 0.08199861878804651), (6, 0.08185065876322486), (318, 0.08182262112946156), (1170, 0.08161066983646632), (870, 0.08083029523964126), (501, 0.08066538005573597), (19, 0.07932570423224793), (78, 0.07903502272220404), (401, 0.0789294748141071), (1710, 0.0787195674295429), (396, 0.07728478436986358), (1029, 0.07660796956072954), (232, 0.07529421207872788), (763, 0.07425432233883018), (960, 0.07418318713040883), (1180, 0.07320842487609433), (1459, 0.07266654548491343), (1317, 0.07220209784591107), (421, 0.07201537932392527), (91, 0.07189025672284229), (641, 0.07026984716107629), (725, 0.07006718619328209), (1651, 0.06941313387504444), (1311, 0.06906276739024936), (1128, 0.06859823528902795), (436, 0.06847063891218508), (1365, 0.06845365883842601), (185, 0.06819834437900169), (1428, 0.06805099828370542), (885, 0.06676349587599106), (840, 0.06633614146151501), (129, 0.06618480089559581), (460, 0.06601657411565948), (1654, 0.0656757635495611), (382, 0.06551039702911624), (1664, 0.06544394337888851), (20, 0.06470453778735946), (1670, 0.0645696349614062), (30, 0.0644443232924636), (9, 0.06386963822166346), (674, 0.06360092115612856), (10, 0.063434644709376), (1165, 0.06202687524277175), (72, 0.06198445574588714), (332, 0.061972161101044074), (278, 0.060965902297601994), (1502, 0.06064625181229178), (1494, 0.06062563465871594), (789, 0.06028896794514487), (705, 0.060224050089746434), (599, 0.059944307005881575), (166, 0.05967200974259084), (1041, 0.05931138697882373), (1277, 0.05842082697218742), (95, 0.05838226065326624), (238, 0.058359124026990866), (654, 0.057821721304836315), (1652, 0.057584697232118474), (1230, 0.057407845760250376), (1703, 0.05725274863115116), (291, 0.057097711448199154), (508, 0.05693516700363791), (631, 0.05656897459522141), (1720, 0.05626712453709633), (1233, 0.05626013233124534), (574, 0.05553017409568422), (28, 0.05509636860933315), (270, 0.054677531036608315), (41, 0.05456782118205204), (680, 0.05392748196447052), (805, 0.05383229780815129), (1200, 0.053828532084166034), (845, 0.053757142452609506), (1152, 0.05369151103433205), (1482, 0.05355346978786191), (457, 0.053375232591929216), (675, 0.053327650365190285), (507, 0.05314854564618347), (331, 0.052919448278059056), (1213, 0.05271996772939691), (1484, 0.052034739711393246), (43, 0.05164638674441574), (911, 0.050760854453009964), (1495, 0.05069760784758791), (330, 0.05031089523418289), (873, 0.050205399907430275), (1291, 0.0499018675281076), (1, 0.04986396079931407), (420, 0.04976248299161694), (1604, 0.049582866835316514), (262, 0.04934278327121163), (1641, 0.04924315993270373), (54, 0.04915430280587892), (956, 0.04914208032307116), (1016, 0.0486119278510101), (664, 0.04852839017998391), (833, 0.04840068255408087), (329, 0.04820316316044083), (98, 0.047676242622446005), (464, 0.0475069927373695), (953, 0.04700271704889104), (1398, 0.04691049200074798), (412, 0.04677939555389314), (726, 0.04672067477418543), (1249, 0.04664645201492361), (76, 0.046334772052251394), (199, 0.04597228030299007), (1715, 0.04509619540909637), (1055, 0.04483931543080448), (728, 0.04478240230587275), (782, 0.04460398164655932), (1392, 0.04424637326155276), (546, 0.04418902070832833), (324, 0.04383073987753197), (441, 0.043801023811453774), (1480, 0.043645550536392984), (1396, 0.043329252869485954), (1650, 0.04323981017944549), (1288, 0.04302764818099195), (1086, 0.0425417768233954), (977, 0.042534690766658764), (207, 0.04253354464859062), (163, 0.04215073415767105), (316, 0.04199609533213502), (1358, 0.04198532665330866), (1696, 0.04186506163461275), (1272, 0.041100345004150565), (136, 0.04105261866418964), (1024, 0.040958173729522054), (483, 0.040613780411377184), (752, 0.04060203447040064), (446, 0.040240324532099955), (451, 0.04022723821598794), (110, 0.040169052332117886), (929, 0.0398157342171036), (1367, 0.03942831311111121), (1649, 0.039263999878764416), (1712, 0.03904768762264161), (1247, 0.03903316888331711), (1636, 0.038963409253797036), (536, 0.03880116122854464), (178, 0.038561268301657035), (761, 0.03829855298521727), (18, 0.03825082920484583), (1446, 0.03822335562248471), (1097, 0.03821952818017447), (309, 0.03804364284220796), (57, 0.03800649560589066), (889, 0.03787022254612168), (328, 0.03765237158416765), (279, 0.03761827343305067), (310, 0.03730681009284284), (545, 0.037204438643618075), (249, 0.0371985198035076), (1052, 0.037184471885098824), (1155, 0.0371699167635251), (855, 0.037120834239037295), (1039, 0.03670280214864212), (256, 0.036616892485052746), (1297, 0.03656368276704771), (1250, 0.03618301210129917), (1439, 0.03616944882911741), (1324, 0.036120285430011445), (539, 0.03590592666095986), (425, 0.03587482752527415), (1542, 0.03536540604251557), (1005, 0.03532814396484072), (646, 0.03480563076035568), (564, 0.03479862485685063), (733, 0.03472418091035624), (466, 0.03454164440703886), (1456, 0.03433926591262607), (1469, 0.0341033449055235), (146, 0.033775042510549295), (1209, 0.03372303206526843), (103, 0.03371465000337225), (1177, 0.033585677358327314), (440, 0.03346930538089163), (370, 0.03325219885475703), (241, 0.033107044914810715), (459, 0.03296289790584877), (570, 0.03296044517994629), (1119, 0.03225057557957973), (402, 0.03212183144547508), (878, 0.03132725547423495), (635, 0.031170811926518827), (128, 0.0311467068100475), (1237, 0.030792377817514333), (864, 0.030776355969809446), (201, 0.030733128336057184), (32, 0.0305271462690328), (47, 0.030510983970392192), (56, 0.030459629226492473), (345, 0.03028565469880056), (1518, 0.03006423451741097), (271, 0.030009497975184613), (732, 0.02997874348761248), (965, 0.029918255276814257), (699, 0.02990396243527782), (1285, 0.029363853625438623), (797, 0.02930847443814735), (967, 0.02909750910410901), (158, 0.02908432878928183), (111, 0.028994196633096575), (493, 0.028934610424263395), (35, 0.028864729191817526), (1445, 0.02884378345350772), (102, 0.02882107559682038), (700, 0.02881085549085385), (1390, 0.02861213263832897), (211, 0.028532599952302864), (713, 0.028504166794393795), (254, 0.028497542761310196), (365, 0.028493800776202012), (1332, 0.028409341910514255), (127, 0.028406524748306412), (183, 0.028250871668044096), (322, 0.028242075046444996), (193, 0.028235205190173418), (775, 0.02820218056904559), (600, 0.028193599998383296), (83, 0.028126250642432155), (1171, 0.02812424195310099), (668, 0.028065015141893867), (1354, 0.028025359459202582), (562, 0.027967398258859712), (1434, 0.027956707596244794), (393, 0.02789633959598766), (1440, 0.02781996133030791), (593, 0.027813821823967206), (414, 0.02772409562626119), (976, 0.027715747487406184), (972, 0.027651175659636335), (701, 0.027630865168165056), (377, 0.027402363008517953), (229, 0.02720784651864651), (685, 0.027163385951549317), (1083, 0.02716025073537762), (755, 0.027132253442682074), (108, 0.027082050794452184), (1490, 0.02706551138318886), (1496, 0.02695432179169695), (61, 0.026872004973910634), (587, 0.02685988236584381), (70, 0.026793563364720267), (1683, 0.02676280698555692), (260, 0.026734081050497696), (1370, 0.026727357139191645), (0, 0.02672161426174173), (735, 0.026668719151223617), (1059, 0.02665727307614109), (1294, 0.026599267517287317), (1617, 0.026588128944826067), (495, 0.026523828004399272), (219, 0.02650546159906781), (311, 0.02650501928101212), (168, 0.026462493039818062), (366, 0.026407535069217225), (149, 0.026371972653315832), (1687, 0.026312947604978498), (150, 0.02628762031245061), (948, 0.026273350170706415), (813, 0.026231943137060013), (36, 0.026223234499147274), (1014, 0.0262128295741691), (1596, 0.026194636876958253), (922, 0.026191499347623413), (96, 0.026180599950148042), (490, 0.02607636269714454), (1507, 0.026027859584703956), (1583, 0.025941533723346868), (1303, 0.025769961244422587), (212, 0.02575737211283426), (1387, 0.02575272676235462), (487, 0.025735401881190043), (503, 0.02571999023385137), (4, 0.025719002683506683), (1259, 0.02569103191863692), (1232, 0.02563407835285468), (59, 0.025570239397285525), (228, 0.025545390638363016), (1034, 0.025540585805265442), (1093, 0.02553834377257908), (123, 0.025479619684807234), (107, 0.025351180123513804), (380, 0.025262359697515786), (334, 0.025248891422285456), (125, 0.025203075945645175), (1335, 0.025133698419802727), (456, 0.025020456106836515), (974, 0.02489108071553043), (1601, 0.024890550454728565), (27, 0.024890323553055857), (52, 0.02475338652505912), (577, 0.024681831944931093), (342, 0.024631078572461988), (920, 0.024612842553293757), (1383, 0.024487599885856824), (1058, 0.02439171700964704), (1302, 0.024368091641318687), (1589, 0.024338397783136068), (1425, 0.02432423763562387), (581, 0.02432185858045115), (419, 0.02428333920415895), (1201, 0.024213509151082054), (461, 0.02408331027751113), (1299, 0.024023494918705448), (665, 0.024016969640348135), (1079, 0.023994495805766312), (1001, 0.023937505234105105), (386, 0.023910403375424168), (1701, 0.023891501886949985), (799, 0.023889994296310266), (1044, 0.023889082289753213), (1269, 0.023864797991657638), (165, 0.02384063611602536), (931, 0.023805852866088877), (225, 0.023762256048861584), (362, 0.023687360891848648), (200, 0.023664890810114633), (475, 0.023604350060189728), (1191, 0.023566141501119485), (990, 0.023551099583146336), (67, 0.023523328468978782), (1092, 0.023418969420088823), (601, 0.023403496418820648), (400, 0.02333972932627945), (1644, 0.023291439940540403), (151, 0.023274666174325328), (319, 0.023257977006107215), (306, 0.02321846798523092), (1002, 0.023158789216983697), (1068, 0.023097122181889553), (625, 0.023025029399915766), (1345, 0.02298305289489625), (196, 0.02293629742473741), (1534, 0.022909001652750543), (305, 0.022877651941744244), (82, 0.022831178598283066), (1547, 0.02279691889841321), (263, 0.022794732788754823), (1184, 0.022738294879343184), (777, 0.02258576223792639), (1336, 0.022584356477118137), (415, 0.022573464808828353), (949, 0.022527184005342687), (462, 0.022505638991256696), (778, 0.022471259538751506), (838, 0.022408024572941426), (51, 0.022396784421628523), (1633, 0.022369339370151762), (222, 0.02235595706198859), (740, 0.02233768169301601), (1377, 0.022324229042076676), (1131, 0.022318747196454505), (1569, 0.022292558911764945), (300, 0.022278771967973773), (87, 0.02227499528187072), (657, 0.02224477757033875), (313, 0.022240333995635436), (780, 0.022231409312204926), (476, 0.022190249526905206), (902, 0.022183238434030878), (904, 0.02214555994135015), (1399, 0.022133793626937414), (233, 0.022133277251392754), (609, 0.02211257486871212), (1642, 0.022111737437086464), (480, 0.022037144649514128), (996, 0.021966065827583946), (266, 0.02194053993548968), (1468, 0.021898470838970438), (1070, 0.021869016740698494), (97, 0.02184974477894793), (230, 0.021740717192925717), (74, 0.021659339261115615), (335, 0.021642278392716513), (1531, 0.021634990920889795), (1595, 0.021612436031664604), (257, 0.021603808325976227), (264, 0.021602496091428895), (470, 0.021600254047212563), (1363, 0.021569293012021908), (1395, 0.02152874275972129), (774, 0.021497759452483323), (1198, 0.02140224863338274), (1328, 0.021398997112783293), (410, 0.021351944113142007), (358, 0.021331895786146724), (768, 0.02131947656956723), (1344, 0.02131110821836104), (426, 0.021277945290807215), (1296, 0.021269313567247223), (939, 0.021241921553396267), (1326, 0.021174593793710488), (1319, 0.021118573772098886), (850, 0.02110389605400306), (1159, 0.02110208807104653), (505, 0.021084095173605325), (93, 0.02108222331837086), (634, 0.021012580344789467), (1588, 0.020942056185085833), (510, 0.020922876696430993), (1539, 0.020817289464393946), (371, 0.020799879086411156), (612, 0.020766163893175694), (1244, 0.020687026792715273), (224, 0.020655973510895716), (706, 0.020631908818011004), (220, 0.020526046163341992), (1465, 0.020459643984823014), (1491, 0.020434366429814402), (658, 0.02039183427526576), (275, 0.020360759510844425), (1488, 0.020354048723844345), (591, 0.020333448779558685), (1639, 0.020295490398981354), (376, 0.02028707210524243), (1028, 0.020157448306823235), (1110, 0.020136604994138493), (1625, 0.020079878686384403), (582, 0.020054084117582922), (1472, 0.02000076382650134), (1575, 0.019989272933924218), (898, 0.01998358003219456), (711, 0.01997715722448596), (184, 0.019907712991626483), (223, 0.019848784460549107), (1271, 0.019792987864600486), (530, 0.01972147429722457), (45, 0.019679710660507947), (449, 0.019635756753161104), (854, 0.019584605841517447), (1217, 0.01957746096278237), (471, 0.019575727397216813), (292, 0.01956197187979529), (1568, 0.019527115576745708), (170, 0.019492374064907992), (116, 0.019436383058542426), (542, 0.019316309175126653), (754, 0.0192615977583981), (90, 0.019252909487516394), (1270, 0.01907702821589948), (1646, 0.019054044564023008), (504, 0.01902391648468938), (172, 0.018985610803081445), (626, 0.018972072985892173), (908, 0.01891026804012995), (900, 0.018785037029319523), (1337, 0.018784361448972157), (384, 0.01877579291800781), (1452, 0.018748711793717367), (81, 0.018745404376594728), (1506, 0.01858596720340163), (1133, 0.018577886052472195), (1535, 0.018574659030032598), (442, 0.018499313526336613), (1709, 0.01843692026019661), (373, 0.01836625437146847), (301, 0.018307172779914567), (670, 0.018237928414691292), (578, 0.018143153580228406), (286, 0.018100412372572927), (734, 0.01809659341661371), (1422, 0.018011512735569314), (389, 0.017972933562273995), (639, 0.017871008611661226), (771, 0.017855732418249247), (360, 0.017833507441766955), (1436, 0.017814046803625493), (432, 0.017807664132903946), (1053, 0.017792004904050647), (1608, 0.017778413756405372), (413, 0.0177759976386924), (1419, 0.017742481366202472), (756, 0.017709736247420137), (560, 0.017633008965976398), (632, 0.017630663089260375), (793, 0.017578945533398872), (1222, 0.017568235021421207), (1606, 0.017539071872366654), (1283, 0.017503957574409076), (541, 0.017433355710558103), (716, 0.017412517620518774), (1157, 0.01736791776102844), (994, 0.01732139805050446), (613, 0.0173030433328955), (1600, 0.01721661809553594), (1517, 0.017134423545738988), (1286, 0.017105014314756608), (575, 0.017044452717631428), (1412, 0.01700543282452982), (372, 0.0169975995046442), (1238, 0.016929741022698508), (988, 0.016905690819676595), (856, 0.016879466816288675), (880, 0.016804155197983752), (473, 0.016788823422898128), (443, 0.016759456282164627), (422, 0.016679979129929502), (1275, 0.016679079948375402), (862, 0.01667449614150548), (1352, 0.016616372279125033), (718, 0.016612814626867273), (450, 0.01651214528407394), (1530, 0.01643680041737802), (1473, 0.01641516840046616), (1607, 0.016367219177688158), (1318, 0.01636100698522789), (1611, 0.01624611407993587), (350, 0.01621981936726096), (615, 0.01618841695232727), (1467, 0.01613756400871708), (770, 0.01612664686461459), (525, 0.01604967601048227), (1415, 0.016042877473964177), (1554, 0.0159645102044757), (1379, 0.015948077428566), (53, 0.015940666043855994), (239, 0.01593608250824695), (1153, 0.015818141731079025), (363, 0.015741797067488635), (738, 0.015668003526687308), (1008, 0.01565187660514964), (814, 0.015646411927148992), (1725, 0.0156402014015481), (375, 0.01563267481714902), (895, 0.015619728789649592), (1637, 0.015530878619397125), (333, 0.015453317365453882), (549, 0.015340689145840178), (760, 0.015257611510121734), (167, 0.015225902838375613), (1643, 0.015197523879379666), (454, 0.015162948847007196), (1173, 0.015139258136044267), (644, 0.015001490260089291), (669, 0.014937624745031538), (764, 0.014903259518551119), (60, 0.014759534464338716), (757, 0.014532946774741132), (1111, 0.014436366463014279), (1525, 0.014433991527800283), (1085, 0.014385732618394844), (1529, 0.014267460248829654), (723, 0.014240191834486614), (164, 0.014195773232894683), (187, 0.014193157165222937), (1341, 0.014026060383326109), (729, 0.013996775943789775), (1305, 0.013944814918114667), (1504, 0.013870658676049526), (892, 0.013847337445783812), (284, 0.013813228863093588), (1050, 0.013721537013088696), (1300, 0.013699731449313987), (811, 0.013693445005025489), (688, 0.013634572755493402), (1090, 0.013599630130490424), (1684, 0.01339070701821844), (1577, 0.013353178487764567), (999, 0.013268493174510279), (1697, 0.013248926447753315), (502, 0.01322668631067919), (1057, 0.013199962347052691), (1105, 0.01305195786144384), (652, 0.012991513718920718), (673, 0.012921510505607445), (703, 0.012816289018461944), (825, 0.012805316040746747), (1369, 0.012772098536397377), (1657, 0.012741002457065501), (1193, 0.012550629357401482), (71, 0.012540792975214777), (1721, 0.01236705651756509), (1243, 0.012283001767322643), (1338, 0.012146853905153288), (346, 0.012134956196763812), (660, 0.011968446612298553), (540, 0.011824770736064928), (1667, 0.011809800127406515), (809, 0.011713189755307019), (340, 0.011663866411040266), (1551, 0.011602661935287327), (1067, 0.011540353343982032), (479, 0.011512492683693669), (851, 0.011408072260070842), (1474, 0.011343253507634992), (1251, 0.011122068751458953), (92, 0.011110206144647042), (678, 0.011005299980976789), (715, 0.010932757297870101), (518, 0.010806489772604684), (1331, 0.010744653957957073), (773, 0.010710406945512516), (1663, 0.010696681212183716), (1558, 0.01069605656357981), (602, 0.010686191575054188), (467, 0.010633114057241884), (1322, 0.010600024193681539), (213, 0.010545876329417475), (786, 0.01050332541043002), (985, 0.010411248813173346), (274, 0.01023990869023304), (339, 0.010234814158532776), (1546, 0.010199736632197904), (347, 0.010133946869631878), (1256, 0.01009775523449475), (1273, 0.010087071373789534), (215, 0.010083974601630172), (190, 0.01008188942545367), (731, 0.010073764847503996), (984, 0.010065682168877219), (583, 0.010046876372012853), (157, 0.010044861602595295), (832, 0.010044078165852333), (2, 0.01000826036048587), (784, 0.00997539895895645), (1012, 0.009937855409542673), (48, 0.00993101514471224), (12, 0.009896358629568162), (29, 0.009893326230285417), (5, 0.009893136012725033), (290, 0.009872550918174997), (55, 0.009869838822805628), (834, 0.009860208055949459), (1628, 0.00982955216003454), (1481, 0.009827568129510049), (523, 0.009792101382011375), (1143, 0.009772984922193865), (781, 0.009770197164602526), (596, 0.009743643677480669), (160, 0.009721172235862788), (104, 0.009711253314879638), (645, 0.009675887336834076), (62, 0.009662653090004324), (1073, 0.009648604249168014), (767, 0.009640258227591791), (1172, 0.009636402852145872), (1320, 0.00963623270193937), (112, 0.00953411708775373), (1089, 0.00953032417844016), (1610, 0.009528628423886049), (594, 0.00950376502482059), (1076, 0.009501661051934021), (240, 0.009495192604799915), (1586, 0.009493395968962353), (544, 0.009451869475212456), (424, 0.009445849856200339), (277, 0.009425939150625194), (1380, 0.009424765395758587), (1615, 0.009367860153504874), (478, 0.009352404835004283), (643, 0.009338321759201166), (488, 0.00932992460909658), (17, 0.009329591449020971), (208, 0.009314651240440007), (486, 0.009304039215016153), (808, 0.009301066064114318), (604, 0.00928368705500653), (933, 0.009280625622615411), (75, 0.009275605237885306), (568, 0.009273025525108263), (1234, 0.009259891146028688), (1139, 0.009238151199377497), (50, 0.009235157151593607), (243, 0.009221110489614603), (744, 0.009198053872119716), (1266, 0.009170757038180932), (687, 0.009170139914143047), (888, 0.009162135757654226), (1202, 0.00915952547266489), (88, 0.00915830041311148), (152, 0.009147104147466216), (121, 0.009133084939455385), (1239, 0.009129589753329148), (1279, 0.009111325384977921), (206, 0.009108304801471314), (1027, 0.009092092700448915), (640, 0.009083984457409187), (472, 0.009068109589218883), (69, 0.009053037904844068), (1084, 0.009040644298892654), (304, 0.009021314368121007), (1713, 0.00901938704620944), (134, 0.009012510984072861), (237, 0.008982375472151891), (1447, 0.008962661208624753), (153, 0.00893754635002947), (1100, 0.008912308385775922), (216, 0.008884493203201393), (383, 0.008839770358236035), (1103, 0.00882889028259609), (139, 0.008814528991478714), (676, 0.0087668742762779), (531, 0.008762223340620193), (969, 0.008762208703222304), (610, 0.008757106882507613), (147, 0.008737661844739031), (836, 0.008715669173340395), (403, 0.008681770285507612), (13, 0.00868098357711408), (1124, 0.008671122330260137), (595, 0.008664476247549815), (1361, 0.008656734301607412), (1175, 0.008645483734996587), (469, 0.008639432600709616), (535, 0.008595149020222447), (1645, 0.008584465119231171), (1106, 0.008580390919135521), (1290, 0.00857182486992295), (259, 0.00851118976909903), (1438, 0.008476441910286275), (989, 0.008470187482034002), (24, 0.008448600177311343), (695, 0.008442737175173954), (312, 0.008426479256952345), (1006, 0.008422536784384196), (491, 0.008412096785165066), (950, 0.008410692743091024), (1343, 0.008375811900623106), (315, 0.008368305216267146), (11, 0.008362179368558735), (186, 0.00834799517501501), (1686, 0.008347749573255141), (1672, 0.0083358672353181), (683, 0.008320166722133138), (1199, 0.008290935240818273), (746, 0.008290637337094148), (691, 0.008260173086728799), (379, 0.008243670706435682), (859, 0.008212532871410883), (21, 0.008157934965945041), (245, 0.00811071534832211), (1136, 0.00804663556747291), (831, 0.008043558608536621), (543, 0.008034468097128962), (325, 0.008014854180930777), (267, 0.007933260243814085), (369, 0.007925788954436182), (1298, 0.007876213663394374), (84, 0.007850971371062714), (1082, 0.007796966502533784), (513, 0.00768629582270294), (794, 0.007656033303200022), (1248, 0.007428662197946703), (1077, 0.007412586291952279), (1404, 0.007367638928249471), (411, 0.007226603273426356), (769, 0.007084989636846152), (627, 0.006985079706297235), (1306, 0.006308444610650243), (1524, 0.006299398390648646), (1658, 0.006289144837560506), (1580, 0.0062175234458096106), (842, 0.006037891008281654), (1382, 0.005950373722738948), (1099, 0.005944250861467688), (294, 0.005919813353703157), (791, 0.005908349259123222), (80, 0.005887003055191161), (189, 0.005869662717753854), (1695, 0.005832290900609329), (1267, 0.005828367034515388), (1509, 0.005776499671048415), (142, 0.005771952721037306), (698, 0.005715965955290066), (848, 0.005708905637768963), (40, 0.0056772396982247425), (841, 0.005674861479930954), (221, 0.005657999991874386), (565, 0.005649232260085173), (37, 0.005605677685552888), (106, 0.005594107357704979), (858, 0.005578442194438497), (181, 0.005561966259119432), (816, 0.0055533916837261), (143, 0.005547022330367669), (1257, 0.005543222134773729), (8, 0.005542704093598995), (748, 0.005542361262852672), (569, 0.005533199532696571), (179, 0.005509585522285459), (899, 0.0055083584595471925), (1253, 0.005497943986372827), (113, 0.005487246474114732), (276, 0.0054731753017483575), (197, 0.005471258904551565), (1602, 0.0054572471725607115), (942, 0.005448122575901021), (785, 0.005446840028186523), (1682, 0.0053953871652817065), (458, 0.005373018985891167), (704, 0.005362792160321749), (750, 0.00535827778666093), (1078, 0.005355512927862146), (1074, 0.0053511086725951396), (1426, 0.005340992344414464), (707, 0.005340846725285623), (144, 0.005318713642256856), (1402, 0.005315367422294322), (234, 0.005306966374425372), (302, 0.0052896684565257885), (935, 0.005251325353936908), (1587, 0.005226604054589585), (1460, 0.005220405061519287), (191, 0.00520983095217926), (202, 0.005194661485632398), (381, 0.005191558082739666), (348, 0.005189366498123481), (1287, 0.005187313241734125), (162, 0.005176373944124583), (1597, 0.005175943162958888), (359, 0.005158555850561164), (572, 0.005146416586545357), (341, 0.005142893926518712), (1183, 0.00513756983141468), (15, 0.005132454908910378), (289, 0.005110345688991976), (141, 0.005108810793468703), (1375, 0.005098427040833769), (978, 0.0050818010678185125), (66, 0.005080319519234068), (195, 0.005075811614015566), (812, 0.005073297528515239), (132, 0.00506748476628008), (175, 0.00505737385845904), (551, 0.005026998774127895), (349, 0.005024690644924717), (1503, 0.005022319593332702), (1080, 0.005013612649658205), (63, 0.004995321521566741), (171, 0.004979745152796573), (22, 0.004972066272176751), (352, 0.004964794489987785), (1550, 0.004946058110300684), (1062, 0.00494547227717255), (235, 0.00491771232209362), (1263, 0.004908454486254596), (218, 0.004891860737069511), (1562, 0.004889010394216381), (671, 0.004883081906918092), (1564, 0.004879417706581024), (1134, 0.004874053952118441), (1357, 0.004870160128268404), (874, 0.004838329013567164), (117, 0.00483743751434566), (498, 0.004834088630645183), (114, 0.004832868180468568), (124, 0.004828784895370942), (1528, 0.004828630305054917), (1072, 0.004820474889103025), (3, 0.004803878488481836), (261, 0.004795590250616329), (534, 0.004780831541666146), (58, 0.004777679598327822), (1675, 0.004770089992934474), (176, 0.004755629723310604), (721, 0.00474611039478371), (1278, 0.004742991868136101), (437, 0.004720444922507297), (485, 0.0047150291595986805), (494, 0.004712339669886887), (566, 0.004709383542801717), (130, 0.0047079998470832655), (866, 0.004705909378664728), (374, 0.004692182389809866), (336, 0.004684744372292652), (617, 0.004682189194572275), (447, 0.004676939077845439), (1479, 0.004662657199205958), (1114, 0.004655421136367858), (399, 0.004651186535325608), (592, 0.0046462456388683), (23, 0.004624391911182676), (484, 0.004622483113886571), (433, 0.004616221678965756), (1020, 0.004602079147901153), (961, 0.00459891840103227), (368, 0.004554723486117161), (1417, 0.004553291077684345), (89, 0.004553204591834117), (86, 0.004540054396301521), (428, 0.004538241625194762), (1289, 0.004537808686766406), (1433, 0.00452503787768117), (44, 0.004518030725301837), (512, 0.004515864319150669), (573, 0.004511186443653904), (934, 0.004510124743748742), (180, 0.004507402534807494), (952, 0.0044970414329191175), (248, 0.004492809283826858), (901, 0.004489465679938124), (1342, 0.004488967413554201), (1505, 0.00448332938651652), (119, 0.004466702230802275), (655, 0.00446096427370856), (145, 0.004447106929384839), (1448, 0.0044311690205307485), (1214, 0.004423130221082695), (730, 0.004421094241126453), (188, 0.004398791751128634), (297, 0.004382535119661828), (807, 0.004378375584886823), (453, 0.004378187316875948), (1144, 0.004358141907501944), (919, 0.004353471549855522), (299, 0.004346909213226794), (1178, 0.004342985973242604), (1118, 0.004339251652395509), (355, 0.004334670460489355), (1245, 0.004330001380762265), (1680, 0.004322960147857937), (65, 0.004321038873863748), (1142, 0.004319401237227697), (320, 0.004318560401025923), (818, 0.004315176889516069), (140, 0.004302132237213234), (296, 0.004298190502523046), (394, 0.0042836666141128), (622, 0.004280141864634329), (828, 0.004277788308597205), (1035, 0.004273465543796394), (702, 0.004272206258602237), (804, 0.004270777958830116), (993, 0.004267179301415414), (1284, 0.004265448843949488), (209, 0.004263560636149481), (762, 0.004263166833550761), (303, 0.004260390184644693), (553, 0.004258068618274687), (547, 0.004254059445826673), (863, 0.004253348172765983), (1212, 0.004251330694388882), (1514, 0.004246123704132134), (659, 0.004243930412306038), (204, 0.004240527136667758), (408, 0.0042380201935009075), (252, 0.004230164373142409), (982, 0.004218120337354953), (1254, 0.0042133305094846476), (1699, 0.004209370413574569), (747, 0.004205524858724248), (597, 0.0041886277751253505), (236, 0.004184746175035256), (1515, 0.004181416830750705), (589, 0.004178093653310668), (737, 0.0041696173435693), (979, 0.004169212011814784), (1470, 0.004165496739968237), (227, 0.00416366891760932), (1158, 0.004163574029139595), (823, 0.004162075643524484), (148, 0.004157284782621322), (1510, 0.004156121277622951), (387, 0.004149062957138539), (590, 0.004148602086013617), (1726, 0.004137766407682894), (1702, 0.004135037908942326), (1321, 0.004131657839649809), (455, 0.004129968464452265), (653, 0.004129004340307281), (1432, 0.00411839652829297), (537, 0.004116157852747491), (210, 0.004115464556247762), (844, 0.004114118074628048), (753, 0.004111574099691906), (981, 0.004109103804214688), (468, 0.004101013049737356), (1043, 0.004072781955676487), (724, 0.004064475722171744), (790, 0.0040610948150311054), (992, 0.004055342522179), (273, 0.0040511365755609915), (1457, 0.004045911156598242), (1339, 0.004045112275134465), (99, 0.004043084250352653), (1500, 0.00403742947555227), (951, 0.004036515380503431), (1486, 0.004015869476283079), (295, 0.0040111354492652525), (821, 0.00400850985929535), (580, 0.004005198183601382), (115, 0.003993338434776037), (1000, 0.003986437500577708), (893, 0.003974794926147034), (694, 0.003973723006093534), (217, 0.003971724644091392), (500, 0.003970927281697362), (1195, 0.003969417463278606), (677, 0.003960660233304289), (392, 0.00395940880751088), (514, 0.003954478531727358), (246, 0.003937624375339052), (1188, 0.003936493696389344), (1096, 0.003922368675070753), (1347, 0.003918368550125446), (1137, 0.0039031026290119917), (739, 0.003897311728968205), (1635, 0.0038943056302288338), (159, 0.0038909517414346165), (1334, 0.003888738394378476), (741, 0.00388304111039606), (937, 0.0038736648786156735), (1669, 0.00386969742286778), (1661, 0.0038683688379676836), (1592, 0.003865118262116958), (285, 0.003864665216616347), (571, 0.003864384441264095), (109, 0.0038588526953592063), (1049, 0.003858332112619124), (1443, 0.003843313262552301), (955, 0.0038410608279972), (1450, 0.003830763625504696), (745, 0.00382610463489884), (621, 0.00382386765882174), (611, 0.003818922101381837), (1146, 0.003810179841442087), (1431, 0.003809481128883178), (708, 0.0038062485294020195), (1101, 0.0037973387958311383), (1359, 0.0037850908034285057), (1671, 0.0037775824374585267), (1653, 0.0037750782717457174), (930, 0.0037749858271576716), (1616, 0.0037559515942430385), (529, 0.0037531078568498206), (1104, 0.003748297500898277), (624, 0.0037472064028277133), (1056, 0.0037311785467203334), (1437, 0.0037099782061269155), (1453, 0.003692371578547436), (973, 0.003691628711127917), (282, 0.003683636370752254), (963, 0.003683224262108897), (1707, 0.0036800306503552145), (1513, 0.003673372857185976), (308, 0.0036632892783436235), (736, 0.003661172286180311), (894, 0.0036596638920730396), (561, 0.00365899453180548), (1538, 0.0036494766436997103), (914, 0.003630361339277166), (1463, 0.0036279757575908922), (941, 0.003621732006102336), (1310, 0.0036147440606860703), (830, 0.0036130371328726724), (959, 0.0036126968818064294), (1281, 0.003606692729071404), (1095, 0.003606212206915571), (586, 0.003588254862512802), (1140, 0.003582753884905877), (244, 0.0035661757724433957), (1174, 0.0035558117806850473), (1626, 0.003550897242474324), (556, 0.003542356863507008), (253, 0.003540269471303485), (787, 0.0035250700981209085), (1138, 0.0035099011219949564), (1003, 0.003483975294262009), (344, 0.003472949601639272), (156, 0.0034443204633936423), (629, 0.0034365685645069257), (1109, 0.003423904967025412), (1064, 0.003329673950271624), (405, 0.0032675498232834312), (528, 0.0031301568433644692), (579, 0.003126720610969526), (932, 0.0030504719512565066), (337, 0.002869225587107744), (1304, 0.0028660104503908535), (1018, 0.002863809520898544), (25, 0.0), (34, 0.0), (42, 0.0), (49, 0.0), (73, 0.0), (77, 0.0), (100, 0.0), (105, 0.0), (118, 0.0), (120, 0.0), (133, 0.0), (135, 0.0), (137, 0.0), (154, 0.0), (155, 0.0), (161, 0.0), (173, 0.0), (177, 0.0), (192, 0.0), (194, 0.0), (214, 0.0), (226, 0.0), (231, 0.0), (247, 0.0), (250, 0.0), (251, 0.0), (255, 0.0), (258, 0.0), (265, 0.0), (268, 0.0), (269, 0.0), (272, 0.0), (280, 0.0), (281, 0.0), (283, 0.0), (287, 0.0), (288, 0.0), (293, 0.0), (298, 0.0), (314, 0.0), (317, 0.0), (321, 0.0), (323, 0.0), (326, 0.0), (327, 0.0), (338, 0.0), (343, 0.0), (351, 0.0), (354, 0.0), (357, 0.0), (364, 0.0), (367, 0.0), (378, 0.0), (385, 0.0), (388, 0.0), (390, 0.0), (391, 0.0), (395, 0.0), (397, 0.0), (398, 0.0), (404, 0.0), (406, 0.0), (407, 0.0), (409, 0.0), (416, 0.0), (417, 0.0), (418, 0.0), (423, 0.0), (427, 0.0), (429, 0.0), (430, 0.0), (431, 0.0), (434, 0.0), (435, 0.0), (438, 0.0), (439, 0.0), (444, 0.0), (445, 0.0), (448, 0.0), (452, 0.0), (463, 0.0), (465, 0.0), (474, 0.0), (477, 0.0), (481, 0.0), (482, 0.0), (489, 0.0), (492, 0.0), (496, 0.0), (497, 0.0), (499, 0.0), (506, 0.0), (509, 0.0), (515, 0.0), (516, 0.0), (517, 0.0), (519, 0.0), (520, 0.0), (521, 0.0), (522, 0.0), (524, 0.0), (526, 0.0), (527, 0.0), (532, 0.0), (533, 0.0), (538, 0.0), (548, 0.0), (550, 0.0), (552, 0.0), (554, 0.0), (555, 0.0), (557, 0.0), (558, 0.0), (559, 0.0), (563, 0.0), (567, 0.0), (576, 0.0), (584, 0.0), (585, 0.0), (588, 0.0), (598, 0.0), (603, 0.0), (605, 0.0), (606, 0.0), (608, 0.0), (614, 0.0), (616, 0.0), (619, 0.0), (620, 0.0), (623, 0.0), (628, 0.0), (630, 0.0), (633, 0.0), (636, 0.0), (637, 0.0), (638, 0.0), (642, 0.0), (647, 0.0), (648, 0.0), (649, 0.0), (650, 0.0), (651, 0.0), (656, 0.0), (662, 0.0), (663, 0.0), (666, 0.0), (667, 0.0), (672, 0.0), (679, 0.0), (681, 0.0), (682, 0.0), (684, 0.0), (686, 0.0), (689, 0.0), (690, 0.0), (692, 0.0), (693, 0.0), (696, 0.0), (697, 0.0), (709, 0.0), (710, 0.0), (712, 0.0), (714, 0.0), (717, 0.0), (719, 0.0), (722, 0.0), (727, 0.0), (742, 0.0), (743, 0.0), (749, 0.0), (751, 0.0), (758, 0.0), (759, 0.0), (765, 0.0), (766, 0.0), (772, 0.0), (776, 0.0), (779, 0.0), (792, 0.0), (795, 0.0), (796, 0.0), (798, 0.0), (801, 0.0), (802, 0.0), (803, 0.0), (806, 0.0), (810, 0.0), (815, 0.0), (817, 0.0), (819, 0.0), (820, 0.0), (822, 0.0), (824, 0.0), (826, 0.0), (827, 0.0), (829, 0.0), (835, 0.0), (837, 0.0), (839, 0.0), (843, 0.0), (846, 0.0), (847, 0.0), (849, 0.0), (852, 0.0), (853, 0.0), (857, 0.0), (860, 0.0), (861, 0.0), (865, 0.0), (867, 0.0), (868, 0.0), (869, 0.0), (871, 0.0), (872, 0.0), (875, 0.0), (876, 0.0), (877, 0.0), (879, 0.0), (881, 0.0), (883, 0.0), (884, 0.0), (886, 0.0), (887, 0.0), (890, 0.0), (891, 0.0), (896, 0.0), (897, 0.0), (903, 0.0), (905, 0.0), (906, 0.0), (907, 0.0), (909, 0.0), (910, 0.0), (912, 0.0), (913, 0.0), (915, 0.0), (916, 0.0), (917, 0.0), (918, 0.0), (921, 0.0), (923, 0.0), (924, 0.0), (925, 0.0), (926, 0.0), (927, 0.0), (928, 0.0), (936, 0.0), (938, 0.0), (943, 0.0), (944, 0.0), (946, 0.0), (947, 0.0), (957, 0.0), (958, 0.0), (962, 0.0), (964, 0.0), (966, 0.0), (968, 0.0), (970, 0.0), (971, 0.0), (975, 0.0), (980, 0.0), (983, 0.0), (986, 0.0), (987, 0.0), (991, 0.0), (995, 0.0), (997, 0.0), (998, 0.0), (1004, 0.0), (1007, 0.0), (1009, 0.0), (1010, 0.0), (1011, 0.0), (1013, 0.0), (1017, 0.0), (1019, 0.0), (1021, 0.0), (1022, 0.0), (1023, 0.0), (1025, 0.0), (1026, 0.0), (1030, 0.0), (1031, 0.0), (1032, 0.0), (1033, 0.0), (1036, 0.0), (1037, 0.0), (1038, 0.0), (1040, 0.0), (1042, 0.0), (1045, 0.0), (1046, 0.0), (1047, 0.0), (1048, 0.0), (1051, 0.0), (1054, 0.0), (1060, 0.0), (1061, 0.0), (1063, 0.0), (1065, 0.0), (1066, 0.0), (1069, 0.0), (1071, 0.0), (1075, 0.0), (1081, 0.0), (1087, 0.0), (1088, 0.0), (1091, 0.0), (1094, 0.0), (1098, 0.0), (1102, 0.0), (1107, 0.0), (1108, 0.0), (1112, 0.0), (1113, 0.0), (1115, 0.0), (1116, 0.0), (1117, 0.0), (1120, 0.0), (1121, 0.0), (1122, 0.0), (1123, 0.0), (1125, 0.0), (1126, 0.0), (1127, 0.0), (1129, 0.0), (1130, 0.0), (1132, 0.0), (1141, 0.0), (1145, 0.0), (1147, 0.0), (1148, 0.0), (1149, 0.0), (1150, 0.0), (1151, 0.0), (1154, 0.0), (1156, 0.0), (1160, 0.0), (1161, 0.0), (1162, 0.0), (1163, 0.0), (1164, 0.0), (1166, 0.0), (1167, 0.0), (1168, 0.0), (1169, 0.0), (1176, 0.0), (1179, 0.0), (1181, 0.0), (1182, 0.0), (1185, 0.0), (1186, 0.0), (1187, 0.0), (1189, 0.0), (1190, 0.0), (1194, 0.0), (1196, 0.0), (1197, 0.0), (1203, 0.0), (1204, 0.0), (1205, 0.0), (1206, 0.0), (1207, 0.0), (1208, 0.0), (1211, 0.0), (1215, 0.0), (1216, 0.0), (1218, 0.0), (1219, 0.0), (1220, 0.0), (1221, 0.0), (1223, 0.0), (1224, 0.0), (1225, 0.0), (1226, 0.0), (1227, 0.0), (1228, 0.0), (1229, 0.0), (1231, 0.0), (1235, 0.0), (1236, 0.0), (1240, 0.0), (1241, 0.0), (1242, 0.0), (1246, 0.0), (1252, 0.0), (1255, 0.0), (1258, 0.0), (1260, 0.0), (1261, 0.0), (1262, 0.0), (1264, 0.0), (1265, 0.0), (1268, 0.0), (1276, 0.0), (1280, 0.0), (1292, 0.0), (1293, 0.0), (1295, 0.0), (1301, 0.0), (1307, 0.0), (1308, 0.0), (1309, 0.0), (1312, 0.0), (1313, 0.0), (1314, 0.0), (1315, 0.0), (1316, 0.0), (1323, 0.0), (1325, 0.0), (1327, 0.0), (1329, 0.0), (1330, 0.0), (1333, 0.0), (1340, 0.0), (1346, 0.0), (1348, 0.0), (1349, 0.0), (1350, 0.0), (1351, 0.0), (1353, 0.0), (1355, 0.0), (1356, 0.0), (1360, 0.0), (1362, 0.0), (1364, 0.0), (1366, 0.0), (1371, 0.0), (1372, 0.0), (1373, 0.0), (1374, 0.0), (1376, 0.0), (1378, 0.0), (1381, 0.0), (1384, 0.0), (1385, 0.0), (1386, 0.0), (1388, 0.0), (1389, 0.0), (1391, 0.0), (1393, 0.0), (1394, 0.0), (1397, 0.0), (1400, 0.0), (1401, 0.0), (1403, 0.0), (1405, 0.0), (1407, 0.0), (1408, 0.0), (1409, 0.0), (1410, 0.0), (1411, 0.0), (1413, 0.0), (1414, 0.0), (1416, 0.0), (1418, 0.0), (1420, 0.0), (1421, 0.0), (1423, 0.0), (1424, 0.0), (1427, 0.0), (1429, 0.0), (1430, 0.0), (1435, 0.0), (1441, 0.0), (1442, 0.0), (1444, 0.0), (1449, 0.0), (1454, 0.0), (1455, 0.0), (1458, 0.0), (1461, 0.0), (1462, 0.0), (1464, 0.0), (1466, 0.0), (1471, 0.0), (1475, 0.0), (1476, 0.0), (1477, 0.0), (1478, 0.0), (1483, 0.0), (1485, 0.0), (1487, 0.0), (1489, 0.0), (1492, 0.0), (1493, 0.0), (1497, 0.0), (1498, 0.0), (1499, 0.0), (1501, 0.0), (1508, 0.0), (1511, 0.0), (1512, 0.0), (1516, 0.0), (1519, 0.0), (1520, 0.0), (1521, 0.0), (1522, 0.0), (1523, 0.0), (1526, 0.0), (1527, 0.0), (1532, 0.0), (1533, 0.0), (1536, 0.0), (1537, 0.0), (1540, 0.0), (1541, 0.0), (1543, 0.0), (1544, 0.0), (1545, 0.0), (1548, 0.0), (1549, 0.0), (1552, 0.0), (1555, 0.0), (1556, 0.0), (1557, 0.0), (1559, 0.0), (1560, 0.0), (1561, 0.0), (1563, 0.0), (1565, 0.0), (1566, 0.0), (1567, 0.0), (1570, 0.0), (1571, 0.0), (1572, 0.0), (1574, 0.0), (1576, 0.0), (1578, 0.0), (1579, 0.0), (1581, 0.0), (1582, 0.0), (1584, 0.0), (1585, 0.0), (1590, 0.0), (1591, 0.0), (1593, 0.0), (1594, 0.0), (1598, 0.0), (1599, 0.0), (1603, 0.0), (1605, 0.0), (1609, 0.0), (1612, 0.0), (1613, 0.0), (1614, 0.0), (1618, 0.0), (1619, 0.0), (1620, 0.0), (1621, 0.0), (1622, 0.0), (1623, 0.0), (1624, 0.0), (1627, 0.0), (1629, 0.0), (1630, 0.0), (1631, 0.0), (1632, 0.0), (1634, 0.0), (1638, 0.0), (1640, 0.0), (1647, 0.0), (1648, 0.0), (1655, 0.0), (1656, 0.0), (1659, 0.0), (1660, 0.0), (1662, 0.0), (1665, 0.0), (1666, 0.0), (1668, 0.0), (1673, 0.0), (1674, 0.0), (1676, 0.0), (1677, 0.0), (1678, 0.0), (1679, 0.0), (1681, 0.0), (1685, 0.0), (1688, 0.0), (1689, 0.0), (1690, 0.0), (1691, 0.0), (1692, 0.0), (1693, 0.0), (1694, 0.0), (1698, 0.0), (1700, 0.0), (1704, 0.0), (1705, 0.0), (1706, 0.0), (1708, 0.0), (1711, 0.0), (1714, 0.0), (1716, 0.0), (1717, 0.0), (1718, 0.0), (1719, 0.0), (1722, 0.0), (1723, 0.0), (1724, 0.0)]\n"
          ]
        }
      ]
    },
    {
      "cell_type": "code",
      "source": [
        "print('Movies suggested for you : \\n')\n",
        "\n",
        "i = 1\n",
        "\n",
        "for movie in sorted_similar_movies:\n",
        "  index = movie[0]\n",
        "  title_from_index = movies_data[movies_data.index==index]['title'].values[0]\n",
        "  if (i<30):\n",
        "    print(i, '.',title_from_index)\n",
        "    i+=1"
      ],
      "metadata": {
        "colab": {
          "base_uri": "https://localhost:8080/"
        },
        "id": "eJf0LFfZIwMy",
        "outputId": "165e045a-59bb-4ac5-fd05-ab0aff59b9a8"
      },
      "execution_count": 28,
      "outputs": [
        {
          "output_type": "stream",
          "name": "stdout",
          "text": [
            "Movies suggested for you : \n",
            "\n",
            "1 . Iron Man\n",
            "2 . Iron Man 2\n",
            "3 . Iron Man 3\n",
            "4 . Avengers: Age of Ultron\n",
            "5 . The Avengers\n",
            "6 . Captain America: Civil War\n",
            "7 . Captain America: The Winter Soldier\n",
            "8 . Ant-Man\n",
            "9 . X-Men\n",
            "10 . X-Men: Apocalypse\n",
            "11 . Mortdecai\n",
            "12 . X2\n",
            "13 . X-Men: Days of Future Past\n",
            "14 . The Incredible Hulk\n",
            "15 . X-Men: First Class\n",
            "16 . G-Force\n",
            "17 . The Last Airbender\n",
            "18 . Captain America: The First Avenger\n",
            "19 . Guardians of the Galaxy\n",
            "20 . Se7en\n",
            "21 . Thor: The Dark World\n",
            "22 . Tropic Thunder\n",
            "23 . Deadpool\n",
            "24 . Sky Captain and the World of Tomorrow\n",
            "25 . X-Men: The Last Stand\n",
            "26 . Zoom\n",
            "27 . Zathura: A Space Adventure\n",
            "28 . Gothika\n",
            "29 . Contagion\n"
          ]
        }
      ]
    },
    {
      "cell_type": "code",
      "source": [
        "movie_name = input(' Enter your favourite movie name : ')\n",
        "\n",
        "list_of_all_titles = movies_data['title'].tolist()\n",
        "\n",
        "find_close_match = difflib.get_close_matches(movie_name, list_of_all_titles)\n",
        "\n",
        "close_match = find_close_match[0]\n",
        "\n",
        "index_of_the_movie = movies_data[movies_data.title == close_match]['index'].values[0]\n",
        "\n",
        "similarity_score = list(enumerate(similarity[index_of_the_movie]))\n",
        "\n",
        "sorted_similar_movies = sorted(similarity_score, key = lambda x:x[1], reverse = True) \n",
        "\n",
        "print('Movies suggested for you : \\n')\n",
        "\n",
        "i = 1\n",
        "\n",
        "for movie in sorted_similar_movies:\n",
        "  index = movie[0]\n",
        "  title_from_index = movies_data[movies_data.index==index]['title'].values[0]\n",
        "  if (i<30):\n",
        "    print(i, '.',title_from_index)\n",
        "    i+=1"
      ],
      "metadata": {
        "colab": {
          "base_uri": "https://localhost:8080/"
        },
        "id": "hBKJfKQ3JPfu",
        "outputId": "95509ff2-b7c8-4176-c558-fadbe6c83eb1"
      },
      "execution_count": 29,
      "outputs": [
        {
          "output_type": "stream",
          "name": "stdout",
          "text": [
            " Enter your favourite movie name : Xmen\n",
            "Movies suggested for you : \n",
            "\n",
            "1 . X-Men\n",
            "2 . X2\n",
            "3 . X-Men: The Last Stand\n",
            "4 . X-Men: Days of Future Past\n",
            "5 . X-Men: Apocalypse\n",
            "6 . The Wolverine\n",
            "7 . Avengers: Age of Ultron\n",
            "8 . The Avengers\n",
            "9 . Ant-Man\n",
            "10 . X-Men Origins: Wolverine\n",
            "11 . Iron Man 2\n",
            "12 . Man of Steel\n",
            "13 . The Incredible Hulk\n",
            "14 . Thor: The Dark World\n",
            "15 . Deadpool\n",
            "16 . The Amazing Spider-Man 2\n",
            "17 . X-Men: First Class\n",
            "18 . Superman Returns\n",
            "19 . Superman II\n",
            "20 . Captain America: The Winter Soldier\n",
            "21 . Jack the Giant Slayer\n",
            "22 . Swordfish\n",
            "23 . Captain America: Civil War\n",
            "24 . Flushed Away\n",
            "25 . Batman v Superman: Dawn of Justice\n",
            "26 . Watchmen\n",
            "27 . Iron Man\n",
            "28 . The Shadow\n",
            "29 . The Amazing Spider-Man\n"
          ]
        }
      ]
    }
  ]
}